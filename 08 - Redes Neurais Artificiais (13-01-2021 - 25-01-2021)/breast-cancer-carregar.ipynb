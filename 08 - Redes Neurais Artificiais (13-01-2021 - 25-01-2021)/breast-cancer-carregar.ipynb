{
 "cells": [
  {
   "cell_type": "code",
   "execution_count": 1,
   "metadata": {
    "execution": {
     "iopub.execute_input": "2021-01-31T22:10:59.600019Z",
     "iopub.status.busy": "2021-01-31T22:10:59.599348Z",
     "iopub.status.idle": "2021-01-31T22:11:08.802219Z",
     "shell.execute_reply": "2021-01-31T22:11:08.801285Z"
    },
    "papermill": {
     "duration": 9.214326,
     "end_time": "2021-01-31T22:11:08.802424",
     "exception": false,
     "start_time": "2021-01-31T22:10:59.588098",
     "status": "completed"
    },
    "tags": []
   },
   "outputs": [
    {
     "name": "stdout",
     "output_type": "stream",
     "text": [
      "18/18 [==============================] - 0s 2ms/step - loss: 0.2298 - binary_accuracy: 0.8965\n"
     ]
    }
   ],
   "source": [
    "import numpy as np\n",
    "import pandas as pd\n",
    "from keras.models import model_from_json\n",
    "\n",
    "arquivo = open('../input/breast-cancer-salvar/classificador_breast.json', 'r')\n",
    "estrutura_rede = arquivo.read()\n",
    "arquivo.close()\n",
    "\n",
    "# Carrega a estrutura da rede neural já treinada\n",
    "classificador = model_from_json(estrutura_rede)\n",
    "\n",
    "# Carrega os pesos da rede neural treinada\n",
    "classificador.load_weights('../input/breast-cancer-salvar/classificador_breast.h5')\n",
    "\n",
    "# ---- A rede neural já está pronta para ser utilizada\n",
    "\n",
    "novo = np.array([[15.80, 8.34, 118, 900, 0.10, 0.26, 0.08, 0.134, 0.178,\n",
    "                  0.20, 0.05, 1098, 0.87, 4500, 145.2, 0.005, 0.04, 0.05, 0.015,\n",
    "                  0.03, 0.007, 23.15, 16.64, 178.5, 2018, 0.14, 0.185,\n",
    "                  0.84, 158, 0.363]])\n",
    "\n",
    "# Fazendo a predição do novo registro\n",
    "previsao = classificador.predict(novo)\n",
    "\n",
    "# Limiar da predição\n",
    "previsao = (previsao > 0.5)\n",
    "\n",
    "# Fazendo a avaliação em uma base de dados de teste\n",
    "previsores = pd.read_csv('../input/entradas-breast/entradas_breast.csv')\n",
    "classe = pd.read_csv('../input/saidas-breast/saidas_breast.csv')\n",
    "\n",
    "# Avaliação utilizando uma rede neural carregada do disco (.json)\n",
    "classificador.compile(loss='binary_crossentropy', optimizer='adam', metrics=['binary_accuracy'])\n",
    "\n",
    "# Avaliação do resultado na base de dados de teste (carregada pelo CSV)\n",
    "# Resultado ---> Função de perda e acurácia\n",
    "resultado = classificador.evaluate(previsores, classe)"
   ]
  },
  {
   "cell_type": "code",
   "execution_count": 2,
   "metadata": {
    "execution": {
     "iopub.execute_input": "2021-01-31T22:11:08.817159Z",
     "iopub.status.busy": "2021-01-31T22:11:08.816530Z",
     "iopub.status.idle": "2021-01-31T22:11:08.820053Z",
     "shell.execute_reply": "2021-01-31T22:11:08.820472Z"
    },
    "papermill": {
     "duration": 0.014173,
     "end_time": "2021-01-31T22:11:08.820596",
     "exception": false,
     "start_time": "2021-01-31T22:11:08.806423",
     "status": "completed"
    },
    "tags": []
   },
   "outputs": [
    {
     "data": {
      "text/plain": [
       "array([[ True]])"
      ]
     },
     "execution_count": 2,
     "metadata": {},
     "output_type": "execute_result"
    }
   ],
   "source": [
    "previsao"
   ]
  },
  {
   "cell_type": "code",
   "execution_count": 3,
   "metadata": {
    "execution": {
     "iopub.execute_input": "2021-01-31T22:11:08.832801Z",
     "iopub.status.busy": "2021-01-31T22:11:08.831679Z",
     "iopub.status.idle": "2021-01-31T22:11:08.834902Z",
     "shell.execute_reply": "2021-01-31T22:11:08.835314Z"
    },
    "papermill": {
     "duration": 0.011359,
     "end_time": "2021-01-31T22:11:08.835434",
     "exception": false,
     "start_time": "2021-01-31T22:11:08.824075",
     "status": "completed"
    },
    "tags": []
   },
   "outputs": [
    {
     "data": {
      "text/plain": [
       "[0.20664387941360474, 0.9332161545753479]"
      ]
     },
     "execution_count": 3,
     "metadata": {},
     "output_type": "execute_result"
    }
   ],
   "source": [
    "resultado"
   ]
  }
 ],
 "metadata": {
  "kernelspec": {
   "display_name": "Python 3",
   "language": "python",
   "name": "python3"
  },
  "language_info": {
   "codemirror_mode": {
    "name": "ipython",
    "version": 3
   },
   "file_extension": ".py",
   "mimetype": "text/x-python",
   "name": "python",
   "nbconvert_exporter": "python",
   "pygments_lexer": "ipython3",
   "version": "3.7.9"
  },
  "papermill": {
   "default_parameters": {},
   "duration": 16.664288,
   "end_time": "2021-01-31T22:11:11.453565",
   "environment_variables": {},
   "exception": null,
   "input_path": "__notebook__.ipynb",
   "output_path": "__notebook__.ipynb",
   "parameters": {},
   "start_time": "2021-01-31T22:10:54.789277",
   "version": "2.2.2"
  }
 },
 "nbformat": 4,
 "nbformat_minor": 4
}
