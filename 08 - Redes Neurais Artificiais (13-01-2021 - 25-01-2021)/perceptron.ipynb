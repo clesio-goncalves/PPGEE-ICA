{
 "cells": [
  {
   "cell_type": "code",
   "execution_count": 1,
   "metadata": {},
   "outputs": [],
   "source": [
    "import numpy as np"
   ]
  },
  {
   "cell_type": "code",
   "execution_count": 2,
   "metadata": {},
   "outputs": [],
   "source": [
    "# AND\n",
    "# entradas = np.array([[0,0], [0,1], [1,0], [1,1]])\n",
    "# saidas = np.array([0, 0, 0, 1])"
   ]
  },
  {
   "cell_type": "code",
   "execution_count": 3,
   "metadata": {},
   "outputs": [],
   "source": [
    "# OR\n",
    "entradas = np.array([[0,0], [0,1], [1,0], [1,1]])\n",
    "saidas = np.array([0, 1, 1, 1])"
   ]
  },
  {
   "cell_type": "code",
   "execution_count": 4,
   "metadata": {},
   "outputs": [],
   "source": [
    "# OR e AND não precisam de camdas ocultas, pois são problemas linearmente separáveis"
   ]
  },
  {
   "cell_type": "code",
   "execution_count": 5,
   "metadata": {},
   "outputs": [],
   "source": [
    "# XOR  --->  Não encontra a solução (não linearmente separável)\n",
    "# entradas = np.array([[0,0], [0,1], [1,0], [1,1]])\n",
    "# saidas = np.array([0, 1, 1, 0])"
   ]
  },
  {
   "cell_type": "code",
   "execution_count": 6,
   "metadata": {},
   "outputs": [],
   "source": [
    "pesos = np.array([0.0, 0.0])\n",
    "taxaAprendizagem = 0.1"
   ]
  },
  {
   "cell_type": "code",
   "execution_count": 7,
   "metadata": {},
   "outputs": [],
   "source": [
    "def stepFunction(soma):\n",
    "    if (soma >= 1):\n",
    "        return 1\n",
    "    return 0"
   ]
  },
  {
   "cell_type": "code",
   "execution_count": 8,
   "metadata": {},
   "outputs": [],
   "source": [
    "def calculaSaida(registro):\n",
    "    s = registro.dot(pesos)\n",
    "    # dot product / produto escalar\n",
    "    return stepFunction(s)"
   ]
  },
  {
   "cell_type": "code",
   "execution_count": 9,
   "metadata": {},
   "outputs": [],
   "source": [
    "def treinar():\n",
    "    erroTotal = 1\n",
    "    while (erroTotal != 0):\n",
    "        erroTotal = 0\n",
    "        for i in range(len(saidas)):\n",
    "            saidaCalculada = calculaSaida(np.asarray(entradas[i]))\n",
    "            erro = abs(saidas[i] - saidaCalculada)\n",
    "            erroTotal += erro\n",
    "            for j in range(len(pesos)):\n",
    "                pesos[j] = pesos[j] + (taxaAprendizagem * entradas[i][j] * erro)\n",
    "                print('Peso atualizado: ' + str(pesos[j]))\n",
    "        print('Total de erros: ' + str(erroTotal))"
   ]
  },
  {
   "cell_type": "code",
   "execution_count": 10,
   "metadata": {},
   "outputs": [
    {
     "name": "stdout",
     "output_type": "stream",
     "text": [
      "Peso atualizado: 0.0\n",
      "Peso atualizado: 0.0\n",
      "Peso atualizado: 0.0\n",
      "Peso atualizado: 0.1\n",
      "Peso atualizado: 0.1\n",
      "Peso atualizado: 0.1\n",
      "Peso atualizado: 0.2\n",
      "Peso atualizado: 0.2\n",
      "Total de erros: 3\n",
      "Peso atualizado: 0.2\n",
      "Peso atualizado: 0.2\n",
      "Peso atualizado: 0.2\n",
      "Peso atualizado: 0.30000000000000004\n",
      "Peso atualizado: 0.30000000000000004\n",
      "Peso atualizado: 0.30000000000000004\n",
      "Peso atualizado: 0.4\n",
      "Peso atualizado: 0.4\n",
      "Total de erros: 3\n",
      "Peso atualizado: 0.4\n",
      "Peso atualizado: 0.4\n",
      "Peso atualizado: 0.4\n",
      "Peso atualizado: 0.5\n",
      "Peso atualizado: 0.5\n",
      "Peso atualizado: 0.5\n",
      "Peso atualizado: 0.5\n",
      "Peso atualizado: 0.5\n",
      "Total de erros: 2\n",
      "Peso atualizado: 0.5\n",
      "Peso atualizado: 0.5\n",
      "Peso atualizado: 0.5\n",
      "Peso atualizado: 0.6\n",
      "Peso atualizado: 0.6\n",
      "Peso atualizado: 0.6\n",
      "Peso atualizado: 0.6\n",
      "Peso atualizado: 0.6\n",
      "Total de erros: 2\n",
      "Peso atualizado: 0.6\n",
      "Peso atualizado: 0.6\n",
      "Peso atualizado: 0.6\n",
      "Peso atualizado: 0.7\n",
      "Peso atualizado: 0.7\n",
      "Peso atualizado: 0.7\n",
      "Peso atualizado: 0.7\n",
      "Peso atualizado: 0.7\n",
      "Total de erros: 2\n",
      "Peso atualizado: 0.7\n",
      "Peso atualizado: 0.7\n",
      "Peso atualizado: 0.7\n",
      "Peso atualizado: 0.7999999999999999\n",
      "Peso atualizado: 0.7999999999999999\n",
      "Peso atualizado: 0.7999999999999999\n",
      "Peso atualizado: 0.7999999999999999\n",
      "Peso atualizado: 0.7999999999999999\n",
      "Total de erros: 2\n",
      "Peso atualizado: 0.7999999999999999\n",
      "Peso atualizado: 0.7999999999999999\n",
      "Peso atualizado: 0.7999999999999999\n",
      "Peso atualizado: 0.8999999999999999\n",
      "Peso atualizado: 0.8999999999999999\n",
      "Peso atualizado: 0.8999999999999999\n",
      "Peso atualizado: 0.8999999999999999\n",
      "Peso atualizado: 0.8999999999999999\n",
      "Total de erros: 2\n",
      "Peso atualizado: 0.8999999999999999\n",
      "Peso atualizado: 0.8999999999999999\n",
      "Peso atualizado: 0.8999999999999999\n",
      "Peso atualizado: 0.9999999999999999\n",
      "Peso atualizado: 0.9999999999999999\n",
      "Peso atualizado: 0.9999999999999999\n",
      "Peso atualizado: 0.9999999999999999\n",
      "Peso atualizado: 0.9999999999999999\n",
      "Total de erros: 2\n",
      "Peso atualizado: 0.9999999999999999\n",
      "Peso atualizado: 0.9999999999999999\n",
      "Peso atualizado: 0.9999999999999999\n",
      "Peso atualizado: 1.0999999999999999\n",
      "Peso atualizado: 1.0999999999999999\n",
      "Peso atualizado: 1.0999999999999999\n",
      "Peso atualizado: 1.0999999999999999\n",
      "Peso atualizado: 1.0999999999999999\n",
      "Total de erros: 2\n",
      "Peso atualizado: 1.0999999999999999\n",
      "Peso atualizado: 1.0999999999999999\n",
      "Peso atualizado: 1.0999999999999999\n",
      "Peso atualizado: 1.0999999999999999\n",
      "Peso atualizado: 1.0999999999999999\n",
      "Peso atualizado: 1.0999999999999999\n",
      "Peso atualizado: 1.0999999999999999\n",
      "Peso atualizado: 1.0999999999999999\n",
      "Total de erros: 0\n",
      "Rede neural treinada\n"
     ]
    }
   ],
   "source": [
    "treinar()\n",
    "print('Rede neural treinada')"
   ]
  },
  {
   "cell_type": "code",
   "execution_count": 11,
   "metadata": {},
   "outputs": [
    {
     "name": "stdout",
     "output_type": "stream",
     "text": [
      "0\n",
      "1\n",
      "1\n",
      "1\n"
     ]
    }
   ],
   "source": [
    "print(calculaSaida(entradas[0]))\n",
    "print(calculaSaida(entradas[1]))\n",
    "print(calculaSaida(entradas[2]))\n",
    "print(calculaSaida(entradas[3]))"
   ]
  },
  {
   "cell_type": "code",
   "execution_count": null,
   "metadata": {},
   "outputs": [],
   "source": []
  }
 ],
 "metadata": {
  "kernelspec": {
   "display_name": "Python 3",
   "language": "python",
   "name": "python3"
  },
  "language_info": {
   "codemirror_mode": {
    "name": "ipython",
    "version": 3
   },
   "file_extension": ".py",
   "mimetype": "text/x-python",
   "name": "python",
   "nbconvert_exporter": "python",
   "pygments_lexer": "ipython3",
   "version": "3.8.3"
  }
 },
 "nbformat": 4,
 "nbformat_minor": 4
}
