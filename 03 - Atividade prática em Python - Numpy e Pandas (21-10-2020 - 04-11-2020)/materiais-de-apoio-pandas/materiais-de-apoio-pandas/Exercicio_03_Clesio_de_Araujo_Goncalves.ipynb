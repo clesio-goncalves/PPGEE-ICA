{
 "cells": [
  {
   "cell_type": "markdown",
   "metadata": {},
   "source": [
    "# Exercício"
   ]
  },
  {
   "cell_type": "markdown",
   "metadata": {},
   "source": [
    "Procure uma base de dados em um dos seguintes sites: \n",
    "https://www.kaggle.com/datasets ou\n",
    "https://archive.ics.uci.edu/ml/index.php\n",
    "\n",
    "A base escolhida deve ter pelo menos 5000 linhas e 10 colunas. Em seguida, utilizando sua criatividade e os conceitos que você aprendeu nos dois jupyter notebooks anteriores do pandas, tente realizar operações interessantes na base de dados escolhida.  \n"
   ]
  },
  {
   "cell_type": "markdown",
   "metadata": {},
   "source": [
    "# Aluno: Clésio de Araújo Gonçalves"
   ]
  },
  {
   "cell_type": "code",
   "execution_count": null,
   "metadata": {},
   "outputs": [],
   "source": [
    "# Imports\n",
    "import pandas as pandas\n",
    "import matplotlib.pyplot as plt\n",
    "import seaborn as sns"
   ]
  },
  {
   "cell_type": "markdown",
   "metadata": {},
   "source": [
    "# 1. Carrega o dataset e exibe algumas informações"
   ]
  },
  {
   "cell_type": "code",
   "execution_count": null,
   "metadata": {},
   "outputs": [],
   "source": [
    "# Lendo a base de dados no formato .csv.\n",
    "# Base de dados: Visão Geral das Taxas de Suicídio de 1985 a 2016\n",
    "# Compara informações socioeconômicas com taxas de suicídio por ano e país\n",
    "# URL: (https://www.kaggle.com/russellyates88/suicide-rates-overview-1985-to-2016)\n",
    "arquivo = 'master.csv'\n",
    "dataset = pandas.read_csv(arquivo)\n",
    "dataset.head()"
   ]
  },
  {
   "cell_type": "code",
   "execution_count": null,
   "metadata": {},
   "outputs": [],
   "source": [
    "# Tipo do objeto\n",
    "type(dataset)"
   ]
  },
  {
   "cell_type": "code",
   "execution_count": null,
   "metadata": {},
   "outputs": [],
   "source": [
    "# Atributos e métodos disponíveis para o objeto dataset\n",
    "dir(dataset)"
   ]
  },
  {
   "cell_type": "code",
   "execution_count": null,
   "metadata": {},
   "outputs": [],
   "source": [
    "# Quantidade de linhas e colunas (27.820 x 12)\n",
    "dataset.shape"
   ]
  },
  {
   "cell_type": "code",
   "execution_count": null,
   "metadata": {},
   "outputs": [],
   "source": [
    "# Informações do sobre as colunas do dataset\n",
    "# A coluna 'IDH para o ano' possui apenas 8.364 registros\n",
    "dataset.info()"
   ]
  },
  {
   "cell_type": "code",
   "execution_count": null,
   "metadata": {},
   "outputs": [],
   "source": [
    "# Exibe as colunas\n",
    "# Colunas: [país, ano, sexo, faixa etária, nº de suicídios, população, taxa de suicídio (100k hab), \n",
    "# chave composta país-ano, IDH para o ano, PIB para o ano ($), PIB per capita ($), geração \n",
    "# (com base na média de grupos de idade).]\n",
    "dataset.columns"
   ]
  },
  {
   "cell_type": "code",
   "execution_count": null,
   "metadata": {},
   "outputs": [],
   "source": [
    "# Renomeando Colunas\n",
    "# inplace=True modifica o objeto em memória\n",
    "dataset.rename(\n",
    "    columns = {\n",
    "        'country':'Pais', \n",
    "        'year':'Ano', \n",
    "        'sex':'Sexo', \n",
    "        'age':'Idade', \n",
    "        'suicides_no':'NoSuicidio', \n",
    "        'population':'Populacao',\n",
    "        'suicides/100k pop':'Suicidio100kPop',\n",
    "        'country-year':'PaisAno',\n",
    "        'HDI for year':'IDHPorAno',\n",
    "        ' gdp_for_year ($) ':'PIBPorAnoValor', \n",
    "        'gdp_per_capita ($)':'PIBPerCapitaValor',\n",
    "        'generation':'Geracao'\n",
    "        }, \n",
    "    inplace=True\n",
    ")"
   ]
  },
  {
   "cell_type": "code",
   "execution_count": null,
   "metadata": {},
   "outputs": [],
   "source": [
    "# Soma de valores nulos\n",
    "dataset.isnull().sum()"
   ]
  },
  {
   "cell_type": "code",
   "execution_count": null,
   "metadata": {},
   "outputs": [],
   "source": [
    "# Excluir a coluna IDHPorAno por apresentar valores nulos e excluir o PaisAno pois apresenta duplicação\n",
    "dataset.drop(['IDHPorAno', 'PaisAno'], axis=1, inplace=True)"
   ]
  },
  {
   "cell_type": "code",
   "execution_count": null,
   "metadata": {},
   "outputs": [],
   "source": [
    "# Retirar a vírgula do valor numérico de PIBPorAnoValor\n",
    "dataset['PIBPorAnoValor'] = dataset['PIBPorAnoValor'].apply(lambda x: x.replace(',', ''))"
   ]
  },
  {
   "cell_type": "code",
   "execution_count": null,
   "metadata": {},
   "outputs": [],
   "source": [
    "# Convertendo tipos de dados para melhorar uso de memória\n",
    "dataset.Pais = dataset.Pais.astype('category')\n",
    "dataset.Ano = dataset.Ano.astype('int32')\n",
    "dataset.Sexo = dataset.Sexo.astype('category')\n",
    "dataset.Idade = dataset.Idade.astype('category')\n",
    "dataset.NoSuicidio = dataset.NoSuicidio.astype('int32')\n",
    "dataset.Populacao = dataset.Populacao.astype('int32')\n",
    "dataset.Suicidio100kPop = dataset.Suicidio100kPop.astype('float32')\n",
    "dataset.PIBPorAnoValor = dataset.PIBPorAnoValor.astype('int64')\n",
    "dataset.PIBPerCapitaValor = dataset.PIBPerCapitaValor.astype('int32')\n",
    "dataset.Geracao = dataset.Geracao.astype('category')"
   ]
  },
  {
   "cell_type": "code",
   "execution_count": null,
   "metadata": {},
   "outputs": [],
   "source": [
    "# Informações do uso de memória\n",
    "dataset.info()"
   ]
  },
  {
   "cell_type": "code",
   "execution_count": null,
   "metadata": {},
   "outputs": [],
   "source": [
    "dataset"
   ]
  },
  {
   "cell_type": "markdown",
   "metadata": {},
   "source": [
    "# 2. Manipulação e visualização dos dados no dataset Geral"
   ]
  },
  {
   "cell_type": "markdown",
   "metadata": {},
   "source": [
    "OBS: O dataset geral inclui todos os países"
   ]
  },
  {
   "cell_type": "code",
   "execution_count": null,
   "metadata": {},
   "outputs": [],
   "source": [
    "# Resumo estatístico do número de suicídio\n",
    "dataset['NoSuicidio'].describe()"
   ]
  },
  {
   "cell_type": "code",
   "execution_count": null,
   "metadata": {},
   "outputs": [],
   "source": [
    "# Soma do total de suicidios\n",
    "dataset['NoSuicidio'].sum()"
   ]
  },
  {
   "cell_type": "code",
   "execution_count": null,
   "metadata": {},
   "outputs": [],
   "source": [
    "# Número de suicídios zerados\n",
    "dataset[dataset.NoSuicidio == 0]"
   ]
  },
  {
   "cell_type": "markdown",
   "metadata": {},
   "source": [
    "### 2.1 Quantidade de suidicios por Ano"
   ]
  },
  {
   "cell_type": "code",
   "execution_count": null,
   "metadata": {},
   "outputs": [],
   "source": [
    "# Soma a quantidade de suicidios por Ano\n",
    "# O parametro values é usado para informar qual coluna terão os valores somados\n",
    "# O parametro index informo as colunas que serão usadas para agregação.\n",
    "# o parâmetro aggfunc é usado para definir a função de agregação, que poderia ser uma soma por exemplo.\n",
    "# O parâmetro margins=True calcula a quantidade total no final da tabela.\n",
    "dataset.pivot_table(values='NoSuicidio', index=['Ano'], aggfunc='sum', margins=True)"
   ]
  },
  {
   "cell_type": "code",
   "execution_count": null,
   "metadata": {},
   "outputs": [],
   "source": [
    "# Gráfico de Linha: Ano x Suicidio \n",
    "# Problema: gráfico apresenta margem de erro\n",
    "plt.figure(figsize = (16,7))\n",
    "sns.lineplot(x = 'Ano' , y = 'NoSuicidio', data = dataset) Retornou valores incorretos"
   ]
  },
  {
   "cell_type": "code",
   "execution_count": null,
   "metadata": {},
   "outputs": [],
   "source": [
    "# Gráfico de Linha: Ano x Suicidio\n",
    "# Utilizei outro gráfico, pois os anos apresentam números de suicídio muito próximos\n",
    "dataset_ano = dataset['NoSuicidio'].groupby(dataset['Ano']).sum()\n",
    "\n",
    "dicionario_ano = dict(dataset_ano)\n",
    "\n",
    "plt.figure(figsize = (16,7))\n",
    "sns.lineplot(x = list(dicionario_ano.keys()), y = list(dicionario_ano.values()))"
   ]
  },
  {
   "cell_type": "code",
   "execution_count": null,
   "metadata": {},
   "outputs": [],
   "source": [
    "# Gráfico de Barras: Ano x Suicidio\n",
    "plt.figure(figsize = (16,7))\n",
    "sns.barplot(x = list(dicionario_ano.keys()), y = list(dicionario_ano.values()))"
   ]
  },
  {
   "cell_type": "markdown",
   "metadata": {},
   "source": [
    "### 2.2 Quantidade de suidicios por Sexo"
   ]
  },
  {
   "cell_type": "code",
   "execution_count": null,
   "metadata": {},
   "outputs": [],
   "source": [
    "# Soma da quantidade de suicidios por sexo\n",
    "dataset.pivot_table(values='NoSuicidio', index=['Sexo'], aggfunc='sum', margins=True)"
   ]
  },
  {
   "cell_type": "code",
   "execution_count": null,
   "metadata": {},
   "outputs": [],
   "source": [
    "# Gráfico de Barras: Sexo x Suicidio\n",
    "plt.figure(figsize = (16,7))\n",
    "sns.barplot(x = 'Sexo', y = 'NoSuicidio', data = dataset)"
   ]
  },
  {
   "cell_type": "markdown",
   "metadata": {},
   "source": [
    "### 2.3 Quantidade de suidicios por Idade"
   ]
  },
  {
   "cell_type": "code",
   "execution_count": null,
   "metadata": {},
   "outputs": [],
   "source": [
    "# Soma da quantidade de suicidios por idade\n",
    "dataset.pivot_table(values='NoSuicidio', index=['Idade'], aggfunc='sum', margins=True)"
   ]
  },
  {
   "cell_type": "code",
   "execution_count": null,
   "metadata": {},
   "outputs": [],
   "source": [
    "# Gráfico de Barras: Idade x Suicidio\n",
    "plt.figure(figsize = (16,7))\n",
    "sns.barplot(x = 'Idade', y = 'NoSuicidio', data = dataset)"
   ]
  },
  {
   "cell_type": "code",
   "execution_count": null,
   "metadata": {},
   "outputs": [],
   "source": [
    "# Soma da quantidade de suicidios por idade e sexo\n",
    "dataset.pivot_table(values='NoSuicidio', index=['Idade', 'Sexo'], aggfunc='sum', margins=True)"
   ]
  },
  {
   "cell_type": "code",
   "execution_count": null,
   "metadata": {},
   "outputs": [],
   "source": [
    "# Gráfico de Barras: Sexo x Suicidio x Idade (Geral)\n",
    "plt.figure(figsize = (16,7))\n",
    "sns.barplot(x = 'Sexo', y = 'NoSuicidio', hue = 'Idade', data = dataset)"
   ]
  },
  {
   "cell_type": "code",
   "execution_count": null,
   "metadata": {},
   "outputs": [],
   "source": [
    "# Soma da quantidade de suicidios por Geração\n",
    "dataset.pivot_table(values=['NoSuicidio'], index=['Geracao'], aggfunc='sum', margins=True)"
   ]
  },
  {
   "cell_type": "markdown",
   "metadata": {},
   "source": [
    "### 2.4 Quantidade de suidicios por Geração"
   ]
  },
  {
   "cell_type": "code",
   "execution_count": null,
   "metadata": {},
   "outputs": [],
   "source": [
    "# Gráfico de Barras: Geração x Suicidio\n",
    "plt.figure(figsize = (16,7))\n",
    "sns.barplot(x = 'Geracao', y = 'NoSuicidio', data = dataset)"
   ]
  },
  {
   "cell_type": "markdown",
   "metadata": {},
   "source": [
    "### 2.5 Quantidade de suidicios por País"
   ]
  },
  {
   "cell_type": "code",
   "execution_count": null,
   "metadata": {},
   "outputs": [],
   "source": [
    "# Soma da quantidade de suicidios por Pais\n",
    "dataset.pivot_table(values='NoSuicidio', index=['Pais'], aggfunc='sum', margins=True)"
   ]
  },
  {
   "cell_type": "code",
   "execution_count": null,
   "metadata": {},
   "outputs": [],
   "source": [
    "# Gráfico de Barras: 10 países com o maior número de suicidio\n",
    "dataset_pais = dataset['NoSuicidio'].groupby(dataset['Pais']).sum()\n",
    "dataset_pais = dataset_pais.sort_values(ascending = False).head(10)\n",
    "\n",
    "dicionario_pais = dict(dataset_pais)\n",
    "\n",
    "plt.figure(figsize = (16,7))\n",
    "sns.barplot(x = list(dicionario_pais.values()), y = list(dicionario_pais.keys()))"
   ]
  },
  {
   "cell_type": "code",
   "execution_count": null,
   "metadata": {},
   "outputs": [],
   "source": [
    "# Gráfico de Barras: 15 países com as maiores médias de taxas de suicidio por 100k habitantes\n",
    "dataset_pais = dataset['Suicidio100kPop'].groupby(dataset['Pais']).mean()\n",
    "dataset_pais = dataset_pais.sort_values(ascending = False).head(15)\n",
    "\n",
    "dicionario_pais = dict(dataset_pais)\n",
    "\n",
    "plt.figure(figsize = (16,9))\n",
    "sns.barplot(x = list(dicionario_pais.values()), y = list(dicionario_pais.keys()))"
   ]
  },
  {
   "cell_type": "markdown",
   "metadata": {},
   "source": [
    "# 3. Manipulação e visualização dos dados (País: Brasil)"
   ]
  },
  {
   "cell_type": "code",
   "execution_count": null,
   "metadata": {},
   "outputs": [],
   "source": [
    "# Dataset do Brasil\n",
    "dataset_brasil = dataset[(dataset['Pais'] == 'Brazil')]\n",
    "dataset_brasil"
   ]
  },
  {
   "cell_type": "code",
   "execution_count": null,
   "metadata": {},
   "outputs": [],
   "source": [
    "# Soma do número de suicídio no Brasil\n",
    "dataset_brasil['NoSuicidio'].sum()"
   ]
  },
  {
   "cell_type": "markdown",
   "metadata": {},
   "source": [
    "### 3.1 Quantidade de suidicios por Ano"
   ]
  },
  {
   "cell_type": "code",
   "execution_count": null,
   "metadata": {},
   "outputs": [],
   "source": [
    "# Total de suicídio no Brasil por ano\n",
    "dataset_brasil.pivot_table(values='NoSuicidio', index=['Ano'], aggfunc='sum', margins=True)"
   ]
  },
  {
   "cell_type": "code",
   "execution_count": null,
   "metadata": {},
   "outputs": [],
   "source": [
    "# Gráfico de linhas: Número de suicídios X Ano (Brasil)\n",
    "dataset_ano_brasil = dataset_brasil['NoSuicidio'].groupby(dataset_brasil['Ano']).sum()\n",
    "\n",
    "dicionario_ano_brasil = dict(dataset_ano_brasil)\n",
    "\n",
    "plt.figure(figsize = (16,7))\n",
    "sns.lineplot(x = list(dicionario_ano_brasil.keys()), y = list(dicionario_ano_brasil.values()))"
   ]
  },
  {
   "cell_type": "code",
   "execution_count": null,
   "metadata": {},
   "outputs": [],
   "source": [
    "# Gráfico de Barras: Número de suicídios X Ano (Brasil)\n",
    "plt.figure(figsize = (16,7))\n",
    "sns.barplot(x = list(dicionario_ano_brasil.keys()), y = list(dicionario_ano_brasil.values()))"
   ]
  },
  {
   "cell_type": "code",
   "execution_count": null,
   "metadata": {},
   "outputs": [],
   "source": [
    "# Gráfico de linhas: Número de suicídios X Ano (Brasil x Geral)\n",
    "plt.figure(figsize = (16,7))\n",
    "\n",
    "sns.lineplot(x = list(dicionario_ano_brasil.keys()), y = list(dicionario_ano_brasil.values()))\n",
    "sns.lineplot(x = list(dicionario_ano.keys()), y = list(dicionario_ano.values()))"
   ]
  },
  {
   "cell_type": "markdown",
   "metadata": {},
   "source": [
    "### 3.2 Quantidade de suidicios por Sexo"
   ]
  },
  {
   "cell_type": "code",
   "execution_count": null,
   "metadata": {},
   "outputs": [],
   "source": [
    "# Soma da quantidade de suicidios por sexo\n",
    "dataset_brasil.pivot_table(values='NoSuicidio', index=['Sexo'], aggfunc='sum', margins=True)"
   ]
  },
  {
   "cell_type": "code",
   "execution_count": null,
   "metadata": {},
   "outputs": [],
   "source": [
    "# Gráfico de Barras: Sexo x Suicidio\n",
    "plt.figure(figsize = (16,7))\n",
    "sns.barplot(x = 'Sexo', y = 'NoSuicidio', data = dataset_brasil)"
   ]
  },
  {
   "cell_type": "markdown",
   "metadata": {},
   "source": [
    "### 3.3 Quantidade de suidicios por Idade"
   ]
  },
  {
   "cell_type": "code",
   "execution_count": null,
   "metadata": {},
   "outputs": [],
   "source": [
    "# Soma da quantidade de suicidios no Brasil por idade\n",
    "dataset_brasil.pivot_table(values='NoSuicidio', index=['Idade'], aggfunc='sum', margins=True)"
   ]
  },
  {
   "cell_type": "code",
   "execution_count": null,
   "metadata": {},
   "outputs": [],
   "source": [
    "# Gráfico de Barras: Idade x Suicidio\n",
    "plt.figure(figsize = (16,7))\n",
    "sns.barplot(x = 'Idade', y = 'NoSuicidio', data = dataset_brasil)"
   ]
  },
  {
   "cell_type": "code",
   "execution_count": null,
   "metadata": {},
   "outputs": [],
   "source": [
    "# Soma da quantidade de suicidios por idade e sexo\n",
    "dataset_brasil.pivot_table(values='NoSuicidio', index=['Idade', 'Sexo'], aggfunc='sum', margins=True)"
   ]
  },
  {
   "cell_type": "code",
   "execution_count": null,
   "metadata": {},
   "outputs": [],
   "source": [
    "# Gráfico de Barras: Sexo x Suicidio x Idade (Brasil)\n",
    "plt.figure(figsize = (16,7))\n",
    "sns.barplot(x = 'Sexo', y = 'NoSuicidio', hue = 'Idade', data = dataset_brasil)"
   ]
  }
 ],
 "metadata": {
  "kernelspec": {
   "display_name": "Python 3",
   "language": "python",
   "name": "python3"
  },
  "language_info": {
   "codemirror_mode": {
    "name": "ipython",
    "version": 3
   },
   "file_extension": ".py",
   "mimetype": "text/x-python",
   "name": "python",
   "nbconvert_exporter": "python",
   "pygments_lexer": "ipython3",
   "version": "3.8.3"
  }
 },
 "nbformat": 4,
 "nbformat_minor": 4
}
