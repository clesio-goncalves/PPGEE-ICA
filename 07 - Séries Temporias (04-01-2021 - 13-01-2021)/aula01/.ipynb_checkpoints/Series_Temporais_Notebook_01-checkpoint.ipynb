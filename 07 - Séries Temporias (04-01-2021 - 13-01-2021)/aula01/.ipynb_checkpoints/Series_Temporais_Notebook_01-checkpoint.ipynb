{
 "cells": [
  {
   "cell_type": "markdown",
   "metadata": {
    "colab_type": "text",
    "id": "BPQyEDpP1u-T"
   },
   "source": [
    "### Bibliotecas úteis para Time Series com Python\n",
    "\n",
    "\n",
    "*   Pandas\n",
    "*   Scikit-learn\n",
    "*   Numpy\n",
    "*   Statsmodel\n",
    "\n"
   ]
  },
  {
   "cell_type": "markdown",
   "metadata": {
    "colab_type": "text",
    "id": "_2Tpxr_I2jV7"
   },
   "source": [
    "### Explorando os dados"
   ]
  },
  {
   "cell_type": "code",
   "execution_count": 1,
   "metadata": {
    "colab": {},
    "colab_type": "code",
    "id": "f7ysZAdQ5v3A"
   },
   "outputs": [],
   "source": [
    "import pandas as pd\n",
    "series = pd.read_csv('champagne_sales.csv')"
   ]
  },
  {
   "cell_type": "code",
   "execution_count": 2,
   "metadata": {
    "colab": {},
    "colab_type": "code",
    "id": "PU5T4HWo3U1P"
   },
   "outputs": [
    {
     "data": {
      "text/plain": [
       "pandas.core.frame.DataFrame"
      ]
     },
     "execution_count": 2,
     "metadata": {},
     "output_type": "execute_result"
    }
   ],
   "source": [
    "type(series)"
   ]
  },
  {
   "cell_type": "code",
   "execution_count": 3,
   "metadata": {
    "colab": {},
    "colab_type": "code",
    "id": "i-14rpZbEvsJ"
   },
   "outputs": [
    {
     "data": {
      "text/html": [
       "<div>\n",
       "<style scoped>\n",
       "    .dataframe tbody tr th:only-of-type {\n",
       "        vertical-align: middle;\n",
       "    }\n",
       "\n",
       "    .dataframe tbody tr th {\n",
       "        vertical-align: top;\n",
       "    }\n",
       "\n",
       "    .dataframe thead th {\n",
       "        text-align: right;\n",
       "    }\n",
       "</style>\n",
       "<table border=\"1\" class=\"dataframe\">\n",
       "  <thead>\n",
       "    <tr style=\"text-align: right;\">\n",
       "      <th></th>\n",
       "      <th>Month</th>\n",
       "      <th>Sales</th>\n",
       "    </tr>\n",
       "  </thead>\n",
       "  <tbody>\n",
       "    <tr>\n",
       "      <th>100</th>\n",
       "      <td>1972-05</td>\n",
       "      <td>4618</td>\n",
       "    </tr>\n",
       "    <tr>\n",
       "      <th>101</th>\n",
       "      <td>1972-06</td>\n",
       "      <td>5312</td>\n",
       "    </tr>\n",
       "    <tr>\n",
       "      <th>102</th>\n",
       "      <td>1972-07</td>\n",
       "      <td>4298</td>\n",
       "    </tr>\n",
       "    <tr>\n",
       "      <th>103</th>\n",
       "      <td>1972-08</td>\n",
       "      <td>1413</td>\n",
       "    </tr>\n",
       "    <tr>\n",
       "      <th>104</th>\n",
       "      <td>1972-09</td>\n",
       "      <td>5877</td>\n",
       "    </tr>\n",
       "  </tbody>\n",
       "</table>\n",
       "</div>"
      ],
      "text/plain": [
       "       Month  Sales\n",
       "100  1972-05   4618\n",
       "101  1972-06   5312\n",
       "102  1972-07   4298\n",
       "103  1972-08   1413\n",
       "104  1972-09   5877"
      ]
     },
     "execution_count": 3,
     "metadata": {},
     "output_type": "execute_result"
    }
   ],
   "source": [
    "series.tail()"
   ]
  },
  {
   "cell_type": "markdown",
   "metadata": {
    "colab_type": "text",
    "id": "sQZRKwarE14u"
   },
   "source": [
    "\n",
    "\n",
    "*   **header=0** : A informação de colunas está na primeira linha do arquivo\n",
    "*   **parse_date=True** : Sinalizamos que o dataset contém coluna do tipo date.\n",
    "*   **index_col=0** : Definimos nossa coluna indice que é a informação temporal.\n",
    "*   **squeeze=True**: Sinalizamos que nos temos apenas um dado de coluna e que queremos transformar isso em uma série e não em um dataframe.\n",
    "\n"
   ]
  },
  {
   "cell_type": "code",
   "execution_count": null,
   "metadata": {
    "colab": {},
    "colab_type": "code",
    "id": "Y-KWI77e1r9Q"
   },
   "outputs": [],
   "source": [
    "from pandas import read_csv\n",
    "series = read_csv('champagne_sales.csv', header=0, index_col=0, parse_dates=True, squeeze=True)"
   ]
  },
  {
   "cell_type": "markdown",
   "metadata": {
    "colab_type": "text",
    "id": "BEMiIHPe3sh4"
   },
   "source": [
    "**Explorando e resumindo os dados**"
   ]
  },
  {
   "cell_type": "code",
   "execution_count": null,
   "metadata": {
    "colab": {},
    "colab_type": "code",
    "id": "b2UK-f1j3yxA"
   },
   "outputs": [],
   "source": [
    "series.describe()"
   ]
  },
  {
   "cell_type": "markdown",
   "metadata": {
    "colab_type": "text",
    "id": "ojtcsfEg8mXV"
   },
   "source": [
    "**Visualizando dados**"
   ]
  },
  {
   "cell_type": "code",
   "execution_count": null,
   "metadata": {
    "colab": {},
    "colab_type": "code",
    "id": "JANb_abE8jBF"
   },
   "outputs": [],
   "source": [
    "import matplotlib.pyplot as plt\n",
    "series.plot(figsize=(10,5), \n",
    "            linewidth=3, \n",
    "            fontsize=10,\n",
    "            title='Vendas ao longo dos anos')\n",
    "plt.xlabel('Ano', fontsize=10);"
   ]
  },
  {
   "cell_type": "markdown",
   "metadata": {
    "colab_type": "text",
    "id": "76hfK4Ly8QL0"
   },
   "source": [
    "**Vendas no ano de 1964 e 1965**"
   ]
  },
  {
   "cell_type": "code",
   "execution_count": null,
   "metadata": {
    "colab": {},
    "colab_type": "code",
    "id": "iMYAxp588EhW"
   },
   "outputs": [],
   "source": [
    "series['1964']"
   ]
  },
  {
   "cell_type": "code",
   "execution_count": null,
   "metadata": {
    "colab": {},
    "colab_type": "code",
    "id": "0s9Bm6nM8bEF"
   },
   "outputs": [],
   "source": [
    "series['1965-01']"
   ]
  },
  {
   "cell_type": "code",
   "execution_count": null,
   "metadata": {
    "colab": {},
    "colab_type": "code",
    "id": "qM65yJJfvVr-"
   },
   "outputs": [],
   "source": [
    "series.index"
   ]
  },
  {
   "cell_type": "code",
   "execution_count": null,
   "metadata": {
    "colab": {},
    "colab_type": "code",
    "id": "w9viLE5Gvmd0"
   },
   "outputs": [],
   "source": [
    "series.values"
   ]
  },
  {
   "cell_type": "markdown",
   "metadata": {
    "colab_type": "text",
    "id": "epOCY_VfY7m3"
   },
   "source": [
    "**Vendas por mês de cada ano**"
   ]
  },
  {
   "cell_type": "code",
   "execution_count": null,
   "metadata": {
    "colab": {},
    "colab_type": "code",
    "id": "mHBp7hfPXCSS"
   },
   "outputs": [],
   "source": [
    "from pandas import Grouper\n",
    "from matplotlib import pyplot\n",
    "from pandas import DataFrame"
   ]
  },
  {
   "cell_type": "code",
   "execution_count": null,
   "metadata": {
    "colab": {},
    "colab_type": "code",
    "id": "fCdoqoy3LvTu"
   },
   "outputs": [],
   "source": [
    "series"
   ]
  },
  {
   "cell_type": "code",
   "execution_count": null,
   "metadata": {
    "colab": {},
    "colab_type": "code",
    "id": "NxB2WTMtLhLQ"
   },
   "outputs": [],
   "source": [
    "# Removendo os dados do ano 1972 por este ano ter menos dados\n",
    "series.drop(series['1972'].index, inplace=True)"
   ]
  },
  {
   "cell_type": "code",
   "execution_count": null,
   "metadata": {
    "colab": {},
    "colab_type": "code",
    "id": "meBcld_hXCDl"
   },
   "outputs": [],
   "source": [
    "grupos = series.groupby(Grouper(freq='A'))\n",
    "anos = DataFrame()\n",
    "for nome, grupo in grupos:\n",
    "  anos[nome.year] = grupo.values"
   ]
  },
  {
   "cell_type": "code",
   "execution_count": null,
   "metadata": {
    "colab": {},
    "colab_type": "code",
    "id": "kDu8rRMRYg25"
   },
   "outputs": [],
   "source": [
    "anos"
   ]
  },
  {
   "cell_type": "code",
   "execution_count": null,
   "metadata": {
    "colab": {},
    "colab_type": "code",
    "id": "zO2ZDW0zZF8z"
   },
   "outputs": [],
   "source": [
    "anos.plot(figsize=(10,5)\n",
    "          ,subplots=True\n",
    "          ,title='Vendas em meses por anos')"
   ]
  },
  {
   "cell_type": "markdown",
   "metadata": {
    "colab_type": "text",
    "id": "f5r86SB_ZIId"
   },
   "source": [
    "**Vendas por ano - Gráfico de pontos**"
   ]
  },
  {
   "cell_type": "code",
   "execution_count": null,
   "metadata": {
    "colab": {},
    "colab_type": "code",
    "id": "siislBBm8tdV"
   },
   "outputs": [],
   "source": [
    "series.plot(style='k.')"
   ]
  },
  {
   "cell_type": "markdown",
   "metadata": {
    "colab_type": "text",
    "id": "FxxIsWMM9dAX"
   },
   "source": [
    "**Visualizando a distribuição da série**"
   ]
  },
  {
   "cell_type": "code",
   "execution_count": null,
   "metadata": {
    "colab": {},
    "colab_type": "code",
    "id": "rPKj6oVJ9dLL"
   },
   "outputs": [],
   "source": [
    "series.hist()"
   ]
  },
  {
   "cell_type": "markdown",
   "metadata": {
    "colab_type": "text",
    "id": "o0RPiLzk_5uD"
   },
   "source": [
    "**Gráfico de Densidade**"
   ]
  },
  {
   "cell_type": "code",
   "execution_count": null,
   "metadata": {
    "colab": {},
    "colab_type": "code",
    "id": "NjEDWnyH_h4A"
   },
   "outputs": [],
   "source": [
    "series.plot(kind='kde')"
   ]
  },
  {
   "cell_type": "markdown",
   "metadata": {
    "colab_type": "text",
    "id": "-0MSMqGtDb0G"
   },
   "source": [
    "**Visualizando Outliers por anos**"
   ]
  },
  {
   "cell_type": "code",
   "execution_count": null,
   "metadata": {
    "colab": {},
    "colab_type": "code",
    "id": "ZnEXVS8B_iFt"
   },
   "outputs": [],
   "source": [
    "grupos = series.groupby(Grouper(freq='A'))\n",
    "anos = DataFrame() \n",
    "for nome, grupo in grupos:\n",
    "  anos[nome.year] = grupo.values\n",
    "anos.boxplot(figsize=(10,5))"
   ]
  },
  {
   "cell_type": "markdown",
   "metadata": {
    "colab_type": "text",
    "id": "fVl_fLD-ZvOB"
   },
   "source": [
    "**Dispersão de valores e lags**\n",
    "\n",
    "\n",
    "*   Visualizando a dispersão entre o valor t e t+n\n",
    "\n"
   ]
  },
  {
   "cell_type": "code",
   "execution_count": null,
   "metadata": {
    "colab": {},
    "colab_type": "code",
    "id": "J_qv8c1Yaqoy"
   },
   "outputs": [],
   "source": [
    "from pandas.plotting import lag_plot\n",
    "lag_plot(series, lag=1)"
   ]
  },
  {
   "cell_type": "markdown",
   "metadata": {
    "colab_type": "text",
    "id": "MaZV_Pi7Z2ir"
   },
   "source": [
    "**Autocorrelação**\n",
    "\n",
    "\n",
    "\n",
    "1.   Mede a autocorrelação entre os lags.\n",
    "2.   Ao execer as linhas pontilhadas mostra relevância estatística.\n",
    "\n"
   ]
  },
  {
   "cell_type": "code",
   "execution_count": null,
   "metadata": {
    "colab": {},
    "colab_type": "code",
    "id": "Mz4tKURLz-Ka"
   },
   "outputs": [],
   "source": [
    "from pandas.plotting import autocorrelation_plot\n",
    "autocorrelation_plot(series)"
   ]
  },
  {
   "cell_type": "markdown",
   "metadata": {
    "colab_type": "text",
    "id": "dljF4kae3Mxa"
   },
   "source": [
    "**Autocorrelação com Statsmodels**"
   ]
  },
  {
   "cell_type": "markdown",
   "metadata": {
    "colab_type": "text",
    "id": "EcNv-aFSolMf"
   },
   "source": [
    "\n",
    "\n",
    "*   Calcula a correlação com lags.\n",
    "*   Pode ser utilizado para configurações de modelos de previsão.\n",
    "*   Exibe o intervalo de confiança de 95% por padrão."
   ]
  },
  {
   "cell_type": "code",
   "execution_count": null,
   "metadata": {
    "colab": {},
    "colab_type": "code",
    "id": "Q-Rg3Vpufiju"
   },
   "outputs": [],
   "source": [
    "from statsmodels.graphics.tsaplots import plot_acf\n",
    "from statsmodels.graphics.tsaplots import plot_pacf\n",
    "from matplotlib import pyplot"
   ]
  },
  {
   "cell_type": "code",
   "execution_count": null,
   "metadata": {
    "colab": {},
    "colab_type": "code",
    "id": "mUbWuEIEUgQU"
   },
   "outputs": [],
   "source": [
    "plot_acf(series, lags=40)\n",
    "pyplot.show()"
   ]
  },
  {
   "cell_type": "markdown",
   "metadata": {
    "colab_type": "text",
    "id": "vaQkNb0uzfEs"
   },
   "source": [
    "###Modelando Dados"
   ]
  },
  {
   "cell_type": "markdown",
   "metadata": {
    "colab_type": "text",
    "id": "pgZ-KmoIsCI5"
   },
   "source": [
    "Remodelar os dados envolve alterar a frequência das observacoes em dois tipos:\n",
    "\n",
    " **Upsampling**: Significa aumentar a frequencia das amostras, como por exemplo, minutos para segundos.\n",
    "\n",
    " **Downsampling**: Significa diminuir a frequencia das amostras, como por exemplo, dias para meses.\n",
    "\n",
    "Existem duas principais razoes porque queremos remodelar nossos dados:\n",
    "\n",
    " **Problem Framing**: Remodelar os dados para trabalhar na mesma frequencia que as predicoes que iremos entregar.\n",
    "\n",
    " **Feature Engineering**: Remodelar os dados podem entregar insights e informações importantes para modelos de machine learning."
   ]
  },
  {
   "cell_type": "code",
   "execution_count": null,
   "metadata": {
    "colab": {},
    "colab_type": "code",
    "id": "V0OKGiuG3f7w"
   },
   "outputs": [],
   "source": [
    "resample = series.resample('2M')"
   ]
  },
  {
   "cell_type": "code",
   "execution_count": null,
   "metadata": {
    "colab": {},
    "colab_type": "code",
    "id": "TKswPBmd3f3I"
   },
   "outputs": [],
   "source": [
    "type(resample)"
   ]
  },
  {
   "cell_type": "code",
   "execution_count": null,
   "metadata": {
    "colab": {},
    "colab_type": "code",
    "id": "vkL0P7JS5PMr"
   },
   "outputs": [],
   "source": [
    "print(resample)"
   ]
  },
  {
   "cell_type": "markdown",
   "metadata": {
    "colab_type": "text",
    "id": "R6CWv7rSz6TB"
   },
   "source": [
    "Cria uma variável para receber os dados do tipo série."
   ]
  },
  {
   "cell_type": "code",
   "execution_count": null,
   "metadata": {
    "colab": {},
    "colab_type": "code",
    "id": "PBJG7fwR3ftP"
   },
   "outputs": [],
   "source": [
    "vendas_medias_dois_meses = resample.mean()"
   ]
  },
  {
   "cell_type": "code",
   "execution_count": null,
   "metadata": {
    "colab": {},
    "colab_type": "code",
    "id": "tybr8cqG3eWE"
   },
   "outputs": [],
   "source": [
    "print(vendas_medias_dois_meses.head(5))"
   ]
  },
  {
   "cell_type": "code",
   "execution_count": null,
   "metadata": {
    "colab": {},
    "colab_type": "code",
    "id": "-8yIhbOFDimE"
   },
   "outputs": [],
   "source": [
    "vendas_medias_dois_meses.plot(figsize=(10,5), linewidth=3, fontsize=10, title='Vendas médias a cada dois meses')\n",
    "pyplot.show()"
   ]
  },
  {
   "cell_type": "markdown",
   "metadata": {
    "colab_type": "text",
    "id": "rJM0crpQ47dF"
   },
   "source": [
    "Trabalhando com Trimestres"
   ]
  },
  {
   "cell_type": "code",
   "execution_count": null,
   "metadata": {
    "colab": {},
    "colab_type": "code",
    "id": "-7xI9nlAzTmR"
   },
   "outputs": [],
   "source": [
    "upsampled = series.resample('Q')"
   ]
  },
  {
   "cell_type": "code",
   "execution_count": null,
   "metadata": {
    "colab": {},
    "colab_type": "code",
    "id": "VvDptUh1zTWm"
   },
   "outputs": [],
   "source": [
    "vendas_trimestre = upsampled.mean()"
   ]
  },
  {
   "cell_type": "markdown",
   "metadata": {
    "colab_type": "text",
    "id": "4DgYEGTo0Ct5"
   },
   "source": [
    "Plota o gráfico de vendas por trimestre"
   ]
  },
  {
   "cell_type": "code",
   "execution_count": null,
   "metadata": {
    "colab": {},
    "colab_type": "code",
    "id": "rGgPk8rTAnGi"
   },
   "outputs": [],
   "source": [
    "vendas_trimestre.plot(figsize=(10,5), linewidth=3, fontsize=10, title='Vendas médias por trimestre')\n",
    "pyplot.show()"
   ]
  },
  {
   "cell_type": "markdown",
   "metadata": {
    "colab_type": "text",
    "id": "mx5JKlMJ2jjG"
   },
   "source": [
    "Calculando a média de vendas por ano"
   ]
  },
  {
   "cell_type": "code",
   "execution_count": null,
   "metadata": {
    "colab": {},
    "colab_type": "code",
    "id": "3bzDno7TzOdw"
   },
   "outputs": [],
   "source": [
    "resample = series.resample('A')"
   ]
  },
  {
   "cell_type": "code",
   "execution_count": null,
   "metadata": {
    "colab": {},
    "colab_type": "code",
    "id": "QjGG2QcCzOYo"
   },
   "outputs": [],
   "source": [
    "vendas_medias_por_ano = resample.mean() \n",
    "print(vendas_medias_por_ano.head())"
   ]
  },
  {
   "cell_type": "code",
   "execution_count": null,
   "metadata": {
    "colab": {},
    "colab_type": "code",
    "id": "Dl3EHKZqELX5"
   },
   "outputs": [],
   "source": [
    "vendas_medias_por_ano.plot(figsize=(10,5), linewidth=3, fontsize=10, title='Vendas médias por ano')\n",
    "pyplot.show()"
   ]
  },
  {
   "cell_type": "markdown",
   "metadata": {
    "colab_type": "text",
    "id": "VYb28Y2gvsJK"
   },
   "source": [
    "#### Engenharia de Features para Séries temporais"
   ]
  },
  {
   "cell_type": "markdown",
   "metadata": {
    "colab_type": "text",
    "id": "ywxuog383C0s"
   },
   "source": [
    "\n",
    "*   Objetivo da Engenharia de Features:\n",
    "    - Fornecer uma **forte e simples** relação entre as variáveis de entrada e a variável alvo para o algoritmo de Machine Learning\n",
    "    - Para Séries temporais não existe uma relação entre **variáveis de entrada e saída**, nós devemos inventar esses para modelar isso como um problema de aprendizado supervisionado a partir do zero.\n",
    "    - Podemos nos basear na capacidade de modelos sofisticados para decifrar a complexidade do problema. Ou melhor, podemos facilitar o trabalho para esses modelos (e até usar modelos mais simples) se pudermos expor melhor o relacionamento inerente entre entradas e saídas nos dados.\n",
    "\n",
    "*  É muito usado em séries temporais features que refletem:\n",
    "\n",
    "  - *Sazonalidade.*\n",
    "  - *Janelas de tempo (lag).*\n",
    "  - *Janelas de tempo com estatísticas.*\n",
    "\n",
    "*   Foco no negócio. Exemplos: \n",
    "    - *Trimestre, dia da semana, dia do mês, feriados, final de semana*\n",
    "    - *vendas dos dias ou periodos anteriores ou a diferença desses valores*\n",
    "\n",
    "\n",
    "\n"
   ]
  },
  {
   "cell_type": "code",
   "execution_count": null,
   "metadata": {
    "colab": {},
    "colab_type": "code",
    "id": "_39vncfs1x0j"
   },
   "outputs": [],
   "source": [
    "# datetime tipo de dado\n",
    "type(series.index)"
   ]
  },
  {
   "cell_type": "code",
   "execution_count": null,
   "metadata": {
    "colab": {},
    "colab_type": "code",
    "id": "AA4qUGVHaewh"
   },
   "outputs": [],
   "source": [
    "series"
   ]
  },
  {
   "cell_type": "code",
   "execution_count": null,
   "metadata": {
    "colab": {},
    "colab_type": "code",
    "id": "a_JbOTS9wMTT"
   },
   "outputs": [],
   "source": [
    "# retorna a hora do datetime\n",
    "series.index.hour"
   ]
  },
  {
   "cell_type": "code",
   "execution_count": null,
   "metadata": {
    "colab": {},
    "colab_type": "code",
    "id": "V_Bcf487zpsv"
   },
   "outputs": [],
   "source": [
    "# retorna o trimestre\n",
    "series.index.quarter"
   ]
  },
  {
   "cell_type": "code",
   "execution_count": null,
   "metadata": {
    "colab": {},
    "colab_type": "code",
    "id": "lbgyOdME0LFr"
   },
   "outputs": [],
   "source": [
    "# retorna o dia da semana\n",
    "series.index.dayofweek"
   ]
  },
  {
   "cell_type": "code",
   "execution_count": null,
   "metadata": {
    "colab": {},
    "colab_type": "code",
    "id": "in2E8PAt43cc"
   },
   "outputs": [],
   "source": [
    "# retorna o dia do ano\n",
    "series.index.dayofyear"
   ]
  },
  {
   "cell_type": "code",
   "execution_count": null,
   "metadata": {
    "colab": {},
    "colab_type": "code",
    "id": "RTToeAM_472P"
   },
   "outputs": [],
   "source": [
    "# retorna se é o último dia do ano\n",
    "series.index.is_year_end"
   ]
  },
  {
   "cell_type": "code",
   "execution_count": null,
   "metadata": {
    "colab": {},
    "colab_type": "code",
    "id": "hquWaeGH5Kv5"
   },
   "outputs": [],
   "source": [
    "# retorna se é o primeiro dia do ano\n",
    "series.index.is_year_start"
   ]
  },
  {
   "cell_type": "markdown",
   "metadata": {
    "colab_type": "text",
    "id": "2qz0LqUzvajg"
   },
   "source": [
    "### Manipulando datas"
   ]
  },
  {
   "cell_type": "code",
   "execution_count": null,
   "metadata": {
    "colab": {},
    "colab_type": "code",
    "id": "YudpWIeAvVK7"
   },
   "outputs": [],
   "source": [
    "import pandas as pd\n",
    "faixa = pd.date_range(start='2019-01-01', end='2019-12-31', freq='B')"
   ]
  },
  {
   "cell_type": "code",
   "execution_count": null,
   "metadata": {
    "colab": {},
    "colab_type": "code",
    "id": "j8-oVMT5vVHN"
   },
   "outputs": [],
   "source": [
    "faixa"
   ]
  },
  {
   "cell_type": "code",
   "execution_count": null,
   "metadata": {
    "colab": {},
    "colab_type": "code",
    "id": "CenbeNfq4qsy"
   },
   "outputs": [],
   "source": [
    "#pip install holidays"
   ]
  },
  {
   "cell_type": "code",
   "execution_count": null,
   "metadata": {
    "colab": {},
    "colab_type": "code",
    "id": "YxEgHfgE4qcZ"
   },
   "outputs": [],
   "source": [
    "import holidays\n",
    "from datetime import date"
   ]
  },
  {
   "cell_type": "code",
   "execution_count": null,
   "metadata": {
    "colab": {},
    "colab_type": "code",
    "id": "bEDyApgY5SW3"
   },
   "outputs": [],
   "source": [
    "feriados = holidays.Brazil()"
   ]
  },
  {
   "cell_type": "code",
   "execution_count": null,
   "metadata": {
    "colab": {},
    "colab_type": "code",
    "id": "UoXpm0j26klh"
   },
   "outputs": [],
   "source": [
    "# Dia do trabalho\n",
    "date(2019, 5, 1) in feriados"
   ]
  },
  {
   "cell_type": "code",
   "execution_count": null,
   "metadata": {
    "colab": {},
    "colab_type": "code",
    "id": "BAbAKipp6zaf"
   },
   "outputs": [],
   "source": [
    "dias_uteis = []\n",
    "for dia in faixa.values:\n",
    "  dia = pd.to_datetime(dia).date()\n",
    "  if dia in feriados:\n",
    "    continue\n",
    "  else:\n",
    "    dias_uteis.append(dia)"
   ]
  },
  {
   "cell_type": "code",
   "execution_count": null,
   "metadata": {
    "colab": {},
    "colab_type": "code",
    "id": "3H6pjA5b81Ve"
   },
   "outputs": [],
   "source": [
    "len(dias_uteis)"
   ]
  },
  {
   "cell_type": "code",
   "execution_count": null,
   "metadata": {
    "colab": {},
    "colab_type": "code",
    "id": "nX2lIqQg9gYF"
   },
   "outputs": [],
   "source": [
    "dias_uteis = pd.to_datetime(dias_uteis)"
   ]
  },
  {
   "cell_type": "code",
   "execution_count": null,
   "metadata": {
    "colab": {},
    "colab_type": "code",
    "id": "JIRXiYp09zXu"
   },
   "outputs": [],
   "source": [
    "dias_uteis"
   ]
  },
  {
   "cell_type": "code",
   "execution_count": null,
   "metadata": {
    "colab": {},
    "colab_type": "code",
    "id": "Iv3SqJNx9HE0"
   },
   "outputs": [],
   "source": [
    "'2019-01-01' in dias_uteis"
   ]
  },
  {
   "cell_type": "code",
   "execution_count": null,
   "metadata": {
    "colab": {},
    "colab_type": "code",
    "id": "ZUs7gEYs9bYB"
   },
   "outputs": [],
   "source": [
    "'2019-01-02' in dias_uteis"
   ]
  },
  {
   "cell_type": "markdown",
   "metadata": {
    "colab_type": "text",
    "id": "-ARK7GBUV2Wu"
   },
   "source": [
    "##### **Features de data**\n",
    "- Dois features com os quais podemos começar são o mês e o dia de vendas.\n",
    "- Podemos imaginar que algoritmos de aprendizado supervisionado podem usar essas entradas para ajudar a obter informações de sazonalidade, como por exemplo: *mês com mais vendas, ou dia do mês que mais vende*."
   ]
  },
  {
   "cell_type": "code",
   "execution_count": null,
   "metadata": {
    "colab": {},
    "colab_type": "code",
    "id": "n-94VwOvvrvw"
   },
   "outputs": [],
   "source": [
    "dataframe = DataFrame()"
   ]
  },
  {
   "cell_type": "code",
   "execution_count": null,
   "metadata": {
    "colab": {},
    "colab_type": "code",
    "id": "6qNJRIrqQEh1"
   },
   "outputs": [],
   "source": [
    "dataframe['mes'] = [series.index[i].month for i in range(len(series))]"
   ]
  },
  {
   "cell_type": "code",
   "execution_count": null,
   "metadata": {
    "colab": {},
    "colab_type": "code",
    "id": "UQsh40nqP5Rx"
   },
   "outputs": [],
   "source": [
    "dataframe['dia'] = [series.index[i].day for i in range(len(series))]"
   ]
  },
  {
   "cell_type": "code",
   "execution_count": null,
   "metadata": {
    "colab": {},
    "colab_type": "code",
    "id": "YfZhJHP8P5HF"
   },
   "outputs": [],
   "source": [
    "dataframe['vendas'] = [series[i] for i in range(len(series))]"
   ]
  },
  {
   "cell_type": "code",
   "execution_count": null,
   "metadata": {
    "colab": {},
    "colab_type": "code",
    "id": "rhcS0rXVP02g"
   },
   "outputs": [],
   "source": [
    "dataframe"
   ]
  },
  {
   "cell_type": "markdown",
   "metadata": {
    "colab_type": "text",
    "id": "_uPyQMtu626q"
   },
   "source": [
    "### Lag Features\n",
    "\n",
    "- Slide Window (Janelas deslizantes)"
   ]
  },
  {
   "cell_type": "code",
   "execution_count": null,
   "metadata": {
    "colab": {},
    "colab_type": "code",
    "id": "j0mRxnDS6IgT"
   },
   "outputs": [],
   "source": [
    "series.head()"
   ]
  },
  {
   "cell_type": "code",
   "execution_count": null,
   "metadata": {
    "colab": {},
    "colab_type": "code",
    "id": "FaGtDGeDQlPF"
   },
   "outputs": [],
   "source": [
    "# desloca o valor um lag a frente\n",
    "series.shift(1)"
   ]
  },
  {
   "cell_type": "code",
   "execution_count": null,
   "metadata": {
    "colab": {},
    "colab_type": "code",
    "id": "2QlEoXuVQuuz"
   },
   "outputs": [],
   "source": [
    "# Cria um dataframe chamado temp\n",
    "temp = DataFrame(series.values)"
   ]
  },
  {
   "cell_type": "code",
   "execution_count": null,
   "metadata": {
    "colab": {},
    "colab_type": "code",
    "id": "A2dgktEBRibM"
   },
   "outputs": [],
   "source": [
    "temp"
   ]
  },
  {
   "cell_type": "code",
   "execution_count": null,
   "metadata": {
    "colab": {},
    "colab_type": "code",
    "id": "J4JgpCQCRmNW"
   },
   "outputs": [],
   "source": [
    "# Desloca o valor um lag a frente\n",
    "temp.shift(1)"
   ]
  },
  {
   "cell_type": "markdown",
   "metadata": {
    "colab_type": "text",
    "id": "fnJ59SVJRvQR"
   },
   "source": [
    "Concatenando o dataframe"
   ]
  },
  {
   "cell_type": "code",
   "execution_count": null,
   "metadata": {
    "colab": {},
    "colab_type": "code",
    "id": "i2Kz83_E6H21"
   },
   "outputs": [],
   "source": [
    "from pandas import concat\n",
    "dataframe = concat([temp.shift(1), temp], axis=1)"
   ]
  },
  {
   "cell_type": "code",
   "execution_count": null,
   "metadata": {
    "colab": {},
    "colab_type": "code",
    "id": "ZV1zfHEd6HqF"
   },
   "outputs": [],
   "source": [
    "# cria as colunas t e t+1\n",
    "dataframe.columns = ['t', 't+1']"
   ]
  },
  {
   "cell_type": "code",
   "execution_count": null,
   "metadata": {
    "colab": {},
    "colab_type": "code",
    "id": "yXRQhCoF6HmQ"
   },
   "outputs": [],
   "source": [
    "dataframe.head(5)"
   ]
  },
  {
   "cell_type": "markdown",
   "metadata": {
    "colab_type": "text",
    "id": "1mgqvjlRVl2u"
   },
   "source": [
    "Expandindo os lags"
   ]
  },
  {
   "cell_type": "code",
   "execution_count": null,
   "metadata": {
    "colab": {},
    "colab_type": "code",
    "id": "5i3ncAsKV9hI"
   },
   "outputs": [],
   "source": [
    "temp = DataFrame(series.values)"
   ]
  },
  {
   "cell_type": "code",
   "execution_count": null,
   "metadata": {
    "colab": {},
    "colab_type": "code",
    "id": "O1kdzYsmo-yN"
   },
   "outputs": [],
   "source": [
    "# expandindo 2 lags a frente\n",
    "temp.shift(2)"
   ]
  },
  {
   "cell_type": "code",
   "execution_count": null,
   "metadata": {
    "colab": {},
    "colab_type": "code",
    "id": "dcabnziHpDKZ"
   },
   "outputs": [],
   "source": [
    "# expandindo 3 lags a frente\n",
    "temp.shift(3)"
   ]
  },
  {
   "cell_type": "code",
   "execution_count": null,
   "metadata": {
    "colab": {},
    "colab_type": "code",
    "id": "UTM3X70U6HaT"
   },
   "outputs": [],
   "source": [
    "# concatena lags\n",
    "dataframe = concat([temp.shift(3), temp.shift(2), temp.shift(1), temp], axis=1)"
   ]
  },
  {
   "cell_type": "code",
   "execution_count": null,
   "metadata": {
    "colab": {},
    "colab_type": "code",
    "id": "rADWo0JIVlDa"
   },
   "outputs": [],
   "source": [
    "# cria colunas\n",
    "dataframe.columns = ['t-2', 't-1', 't', 't+1']"
   ]
  },
  {
   "cell_type": "code",
   "execution_count": null,
   "metadata": {
    "colab": {},
    "colab_type": "code",
    "id": "tMKIOslwVk-s"
   },
   "outputs": [],
   "source": [
    "# imprime o dataframe gerado\n",
    "print(dataframe.head(10))"
   ]
  },
  {
   "cell_type": "code",
   "execution_count": null,
   "metadata": {
    "colab": {},
    "colab_type": "code",
    "id": "EX1UfWRnpysm"
   },
   "outputs": [],
   "source": [
    "# dados originais..\n",
    "temp.head(10)"
   ]
  },
  {
   "cell_type": "markdown",
   "metadata": {
    "colab_type": "text",
    "id": "fI2XLDpgY4ED"
   },
   "source": [
    "### Trabalhando com o método Rolling "
   ]
  },
  {
   "cell_type": "code",
   "execution_count": null,
   "metadata": {
    "colab": {},
    "colab_type": "code",
    "id": "rKYpPUimZQYl"
   },
   "outputs": [],
   "source": [
    "# cria um dataframe a partir dos dados originais\n",
    "temp = pd.DataFrame(series.values)"
   ]
  },
  {
   "cell_type": "code",
   "execution_count": null,
   "metadata": {
    "colab": {},
    "colab_type": "code",
    "id": "Gi82jdjKVk5S"
   },
   "outputs": [],
   "source": [
    "# a variável dados_deslocados recebe os dados de um lag a frente\n",
    "dados_deslocados = temp.shift(1)"
   ]
  },
  {
   "cell_type": "code",
   "execution_count": null,
   "metadata": {
    "colab": {},
    "colab_type": "code",
    "id": "NOeI-Ymyr2vn"
   },
   "outputs": [],
   "source": [
    "# imprime a variável dados_deslocados\n",
    "dados_deslocados"
   ]
  },
  {
   "cell_type": "code",
   "execution_count": null,
   "metadata": {
    "colab": {},
    "colab_type": "code",
    "id": "A6QIxlA8Vkjv"
   },
   "outputs": [],
   "source": [
    "# cria uma variável com rolling\n",
    "window = dados_deslocados.rolling(window=2)"
   ]
  },
  {
   "cell_type": "code",
   "execution_count": null,
   "metadata": {
    "colab": {},
    "colab_type": "code",
    "id": "TkByLNavqQzL"
   },
   "outputs": [],
   "source": [
    "# imprime a variável window\n",
    "window"
   ]
  },
  {
   "cell_type": "code",
   "execution_count": null,
   "metadata": {
    "colab": {},
    "colab_type": "code",
    "id": "b5kJfbRYVkgq"
   },
   "outputs": [],
   "source": [
    "# cria a variável media\n",
    "media = window.mean()"
   ]
  },
  {
   "cell_type": "code",
   "execution_count": null,
   "metadata": {
    "colab": {},
    "colab_type": "code",
    "id": "z_-WWOgEq1Sn"
   },
   "outputs": [],
   "source": [
    "# imprime a variável media\n",
    "media"
   ]
  },
  {
   "cell_type": "code",
   "execution_count": null,
   "metadata": {
    "colab": {},
    "colab_type": "code",
    "id": "OzABIwl6ZFmX"
   },
   "outputs": [],
   "source": [
    "# cria um dataframe concatendo a media com os dados reais\n",
    "dataframe = concat([media, temp], axis=1)"
   ]
  },
  {
   "cell_type": "code",
   "execution_count": null,
   "metadata": {
    "colab": {},
    "colab_type": "code",
    "id": "fzyPhGK3ZGgC"
   },
   "outputs": [],
   "source": [
    "# cria as colunas\n",
    "dataframe.columns = ['mean(t-1,t)', 't+1']"
   ]
  },
  {
   "cell_type": "code",
   "execution_count": null,
   "metadata": {
    "colab": {},
    "colab_type": "code",
    "id": "z4_LRCQ3ZGUR"
   },
   "outputs": [],
   "source": [
    "# imprime o dataframe gerado\n",
    "print(dataframe.head(10))"
   ]
  },
  {
   "cell_type": "markdown",
   "metadata": {
    "colab_type": "text",
    "id": "3HbUhc4sbXhQ"
   },
   "source": [
    "Entendendo os dados gerados..\n",
    "\n",
    "- `Os primeiros NaN values foram criados pelo deslocamento dos dados.`\n",
    "\n",
    "- `O segundo valor não pode ser usado apenas para calcular a média.`\n",
    "\n",
    "- `A terceira linha mostra o valor esperado de 2743.5 (média de 2815 e 2672) e o valor de t+1`\n"
   ]
  },
  {
   "cell_type": "markdown",
   "metadata": {
    "colab_type": "text",
    "id": "NL6LzdFUakIb"
   },
   "source": [
    "Comparando com a série original..."
   ]
  },
  {
   "cell_type": "code",
   "execution_count": null,
   "metadata": {
    "colab": {},
    "colab_type": "code",
    "id": "MF-DIkizZGR3"
   },
   "outputs": [],
   "source": [
    "series.head()"
   ]
  },
  {
   "cell_type": "markdown",
   "metadata": {
    "colab_type": "text",
    "id": "1F3gfJf0cM6B"
   },
   "source": [
    "Adicionando estatística nos dados"
   ]
  },
  {
   "cell_type": "code",
   "execution_count": null,
   "metadata": {
    "colab": {},
    "colab_type": "code",
    "id": "9Ly3KklecAOS"
   },
   "outputs": [],
   "source": [
    "# define a variável tamanho\n",
    "tamanho = 3"
   ]
  },
  {
   "cell_type": "code",
   "execution_count": null,
   "metadata": {
    "colab": {},
    "colab_type": "code",
    "id": "aLuNhZZ9cAFV"
   },
   "outputs": [],
   "source": [
    "# variável dados_deslocados recebe tamanho - 1\n",
    "dados_deslocados = temp.shift(tamanho)"
   ]
  },
  {
   "cell_type": "code",
   "execution_count": null,
   "metadata": {
    "colab": {},
    "colab_type": "code",
    "id": "skj2-c9ttkiE"
   },
   "outputs": [],
   "source": [
    "# imprime a variável dados_deslocados\n",
    "dados_deslocados"
   ]
  },
  {
   "cell_type": "code",
   "execution_count": null,
   "metadata": {
    "colab": {},
    "colab_type": "code",
    "id": "uL6FSF9kZGPK"
   },
   "outputs": [],
   "source": [
    "# cria a variável janela que recebe o rolling do tamanho especificado\n",
    "janela = dados_deslocados.rolling(window=tamanho)"
   ]
  },
  {
   "cell_type": "code",
   "execution_count": null,
   "metadata": {
    "colab": {},
    "colab_type": "code",
    "id": "2l5AlScouA4z"
   },
   "outputs": [],
   "source": [
    "janela"
   ]
  },
  {
   "cell_type": "code",
   "execution_count": null,
   "metadata": {
    "colab": {},
    "colab_type": "code",
    "id": "G7qmh-rDZGLV"
   },
   "outputs": [],
   "source": [
    "# cria o dataframe com as estatísticas da janela\n",
    "dataframe = concat([window.min(), window.mean(), window.max(), temp], axis=1)"
   ]
  },
  {
   "cell_type": "code",
   "execution_count": null,
   "metadata": {
    "colab": {},
    "colab_type": "code",
    "id": "sf_q219lZGHv"
   },
   "outputs": [],
   "source": [
    "# cria as colunas do dataframe\n",
    "dataframe.columns = ['min', 'mean', 'max', 't+1']"
   ]
  },
  {
   "cell_type": "code",
   "execution_count": null,
   "metadata": {
    "colab": {},
    "colab_type": "code",
    "id": "tFCdA8TNcI6f"
   },
   "outputs": [],
   "source": [
    "# imprime o dataframe\n",
    "dataframe.head(10)"
   ]
  },
  {
   "cell_type": "markdown",
   "metadata": {
    "colab_type": "text",
    "id": "tH7nJ9OLuDsW"
   },
   "source": [
    "### Médias Móveis (Average Moving Smoothing)"
   ]
  },
  {
   "cell_type": "markdown",
   "metadata": {
    "colab_type": "text",
    "id": "cqvFD0v2yRtu"
   },
   "source": [
    "\n",
    "\n",
    "*   Valor médio de valores em uma sequência de tempo.\n",
    "*   Técnica de suavização que remove variações finas nos dados.\n",
    "*   Objetivo é remover ruídos e fazer previsões.\n",
    "*   Pode ser usado para Feature Engineering.\n",
    "\n"
   ]
  },
  {
   "cell_type": "code",
   "execution_count": null,
   "metadata": {
    "colab": {},
    "colab_type": "code",
    "id": "afLyotsTuCbS"
   },
   "outputs": [],
   "source": [
    "# importa as bibliotecas que serão usadas\n",
    "import pandas as pd\n",
    "from pandas import read_csv\n",
    "from pandas import concat\n",
    "from matplotlib import pyplot"
   ]
  },
  {
   "cell_type": "code",
   "execution_count": null,
   "metadata": {
    "colab": {},
    "colab_type": "code",
    "id": "WuThxV47nRCq"
   },
   "outputs": [],
   "source": [
    "# ler a base de dados usada.\n",
    "series = read_csv('champagne_sales.csv', header=0, index_col=0, parse_dates=True, squeeze=True)"
   ]
  },
  {
   "cell_type": "code",
   "execution_count": null,
   "metadata": {
    "colab": {},
    "colab_type": "code",
    "id": "tUPzOlag6fTU"
   },
   "outputs": [],
   "source": [
    "# cria um objeto rolling de janela igual a 3\n",
    "rolling = series.rolling(window=3)"
   ]
  },
  {
   "cell_type": "code",
   "execution_count": null,
   "metadata": {
    "colab": {},
    "colab_type": "code",
    "id": "tSO8Z_E8uCOt"
   },
   "outputs": [],
   "source": [
    "# calcula a média da janela\n",
    "rolling_mean = rolling.mean()"
   ]
  },
  {
   "cell_type": "code",
   "execution_count": null,
   "metadata": {
    "colab": {},
    "colab_type": "code",
    "id": "by_mU1NA5zdD"
   },
   "outputs": [],
   "source": [
    "# plot os dados originais e os dados da média móvel \n",
    "series.plot()\n",
    "rolling_mean.plot(color='red')\n",
    "pyplot.show()"
   ]
  },
  {
   "cell_type": "markdown",
   "metadata": {
    "colab_type": "text",
    "id": "hgVIRtad9_U4"
   },
   "source": [
    "#### Média Móvel - Engenharia de Features\n",
    "\n"
   ]
  },
  {
   "cell_type": "code",
   "execution_count": null,
   "metadata": {
    "colab": {},
    "colab_type": "code",
    "id": "6SmAtOCc-Rm8"
   },
   "outputs": [],
   "source": [
    "from pandas import DataFrame"
   ]
  },
  {
   "cell_type": "code",
   "execution_count": null,
   "metadata": {
    "colab": {},
    "colab_type": "code",
    "id": "PnSVlV7A-dGX"
   },
   "outputs": [],
   "source": [
    "# cria um dataframe df\n",
    "df = DataFrame(series.values)"
   ]
  },
  {
   "cell_type": "code",
   "execution_count": null,
   "metadata": {
    "colab": {},
    "colab_type": "code",
    "id": "fHWiVNPswySh"
   },
   "outputs": [],
   "source": [
    "# imprime as 5 linhas do dataframe\n",
    "df.head()"
   ]
  },
  {
   "cell_type": "code",
   "execution_count": null,
   "metadata": {
    "colab": {},
    "colab_type": "code",
    "id": "1EWNvA-a-oei"
   },
   "outputs": [],
   "source": [
    "# cria uma constante\n",
    "tamanho = 3"
   ]
  },
  {
   "cell_type": "code",
   "execution_count": null,
   "metadata": {
    "colab": {},
    "colab_type": "code",
    "id": "KswSf9ov-vr7"
   },
   "outputs": [],
   "source": [
    "# cria uma variável com os dados deslocados +1\n",
    "lag1 = df.shift(1)"
   ]
  },
  {
   "cell_type": "code",
   "execution_count": null,
   "metadata": {
    "colab": {},
    "colab_type": "code",
    "id": "SneUBQEl-xrK"
   },
   "outputs": [],
   "source": [
    "# cria uma variável com os dados deslocados +3\n",
    "lag3 = df.shift(tamanho)"
   ]
  },
  {
   "cell_type": "code",
   "execution_count": null,
   "metadata": {
    "colab": {},
    "colab_type": "code",
    "id": "HEsFFF8w6yGs"
   },
   "outputs": [],
   "source": [
    "# cria uma janela usando o rolling\n",
    "window = lag3.rolling(window=tamanho)"
   ]
  },
  {
   "cell_type": "code",
   "execution_count": null,
   "metadata": {
    "colab": {},
    "colab_type": "code",
    "id": "bOXK1ip_-7nr"
   },
   "outputs": [],
   "source": [
    "# cria a variável media que é a média da jenela.\n",
    "media = window.mean()"
   ]
  },
  {
   "cell_type": "code",
   "execution_count": null,
   "metadata": {
    "colab": {},
    "colab_type": "code",
    "id": "SQm_sZWrzgdN"
   },
   "outputs": [],
   "source": [
    "# imprime a variável media\n",
    "media"
   ]
  },
  {
   "cell_type": "code",
   "execution_count": null,
   "metadata": {
    "colab": {},
    "colab_type": "code",
    "id": "3FoCEORarunm"
   },
   "outputs": [],
   "source": [
    "# imprime o dataframe\n",
    "df.head()"
   ]
  },
  {
   "cell_type": "code",
   "execution_count": null,
   "metadata": {
    "colab": {},
    "colab_type": "code",
    "id": "Xs_flZhN-5S0"
   },
   "outputs": [],
   "source": [
    "# concatena os dados\n",
    "dataframe = concat([media, lag1, df], axis=1)"
   ]
  },
  {
   "cell_type": "code",
   "execution_count": null,
   "metadata": {
    "colab": {},
    "colab_type": "code",
    "id": "vmEbe4Kcztd2"
   },
   "outputs": [],
   "source": [
    "# cria as colunas\n",
    "dataframe.columns = ['media', 't', 't+1']"
   ]
  },
  {
   "cell_type": "code",
   "execution_count": null,
   "metadata": {
    "colab": {},
    "colab_type": "code",
    "id": "xNPXgTNkZQCs"
   },
   "outputs": [],
   "source": [
    "lag3"
   ]
  },
  {
   "cell_type": "code",
   "execution_count": null,
   "metadata": {
    "colab": {},
    "colab_type": "code",
    "id": "ddcQ4SGJADrO"
   },
   "outputs": [],
   "source": [
    "# imprime o dataframe\n",
    "dataframe.head(10)"
   ]
  },
  {
   "cell_type": "markdown",
   "metadata": {
    "colab_type": "text",
    "id": "7UfK5TM1Au6Y"
   },
   "source": [
    "#### Previsões com Média Móvel"
   ]
  },
  {
   "cell_type": "markdown",
   "metadata": {
    "colab_type": "text",
    "id": "aOjH8VgSA24f"
   },
   "source": [
    "\n",
    "\n",
    "1.   Solução simples (walk-forward)\n",
    "2.   Interessante para se criar baselines.\n",
    "3.   Pode se usar Janelas Deslizantes para trabalhar com dados quentes.\n",
    "\n"
   ]
  },
  {
   "attachments": {
    "e79097e6-a9c0-405a-90b3-d17f6e95973a.png": {
     "image/png": "[encoded data removed]"
    }
   },
   "cell_type": "markdown",
   "metadata": {},
   "source": [
    "![walk_forward.png](attachment:e79097e6-a9c0-405a-90b3-d17f6e95973a.png)"
   ]
  },
  {
   "cell_type": "code",
   "execution_count": null,
   "metadata": {
    "colab": {},
    "colab_type": "code",
    "id": "SgzZoBzrvfkN"
   },
   "outputs": [],
   "source": [
    "from math import sqrt\n",
    "from pandas import read_csv\n",
    "from numpy import mean\n",
    "from sklearn.metrics import mean_squared_error"
   ]
  },
  {
   "cell_type": "code",
   "execution_count": null,
   "metadata": {
    "colab": {},
    "colab_type": "code",
    "id": "XVe7wlM9A1pY"
   },
   "outputs": [],
   "source": [
    "series"
   ]
  },
  {
   "cell_type": "code",
   "execution_count": null,
   "metadata": {
    "colab": {},
    "colab_type": "code",
    "id": "6R5RWFKufaXE"
   },
   "outputs": [],
   "source": [
    "# Define uma janela de 3 elementos\n",
    "window = 3"
   ]
  },
  {
   "cell_type": "code",
   "execution_count": null,
   "metadata": {
    "colab": {},
    "colab_type": "code",
    "id": "HTlqgIKDtcsj"
   },
   "outputs": [],
   "source": [
    "# Obtem os 3 primeiros valores da serie\n",
    "history = [series.values[i] for i in range(window)]"
   ]
  },
  {
   "cell_type": "code",
   "execution_count": null,
   "metadata": {
    "colab": {},
    "colab_type": "code",
    "id": "Cliinomlf0m9"
   },
   "outputs": [],
   "source": [
    "# imprime a variável history\n",
    "history"
   ]
  },
  {
   "cell_type": "code",
   "execution_count": null,
   "metadata": {
    "colab": {},
    "colab_type": "code",
    "id": "QhgqJC-Lfw5O"
   },
   "outputs": [],
   "source": [
    "# Obtem todos os valores após os tres primeiros.\n",
    "# range(3, tamanho_da_serie)\n",
    "\n",
    "test = [series.values[i] for i in range(window, 13)]"
   ]
  },
  {
   "cell_type": "code",
   "execution_count": null,
   "metadata": {
    "colab": {},
    "colab_type": "code",
    "id": "9wWUrUXDuujH"
   },
   "outputs": [],
   "source": [
    "# imprime a variável test\n",
    "# 10 primeiros valores da série após o history\n",
    "test"
   ]
  },
  {
   "cell_type": "code",
   "execution_count": null,
   "metadata": {
    "colab": {},
    "colab_type": "code",
    "id": "478ZbRz7uojD"
   },
   "outputs": [],
   "source": [
    "# serie original\n",
    "series.values"
   ]
  },
  {
   "cell_type": "markdown",
   "metadata": {
    "colab_type": "text",
    "id": "FUPt1R8v9Ct5"
   },
   "source": [
    "**Previsão com Média Móvel - Janela deslizante**"
   ]
  },
  {
   "cell_type": "code",
   "execution_count": null,
   "metadata": {
    "colab": {},
    "colab_type": "code",
    "id": "eSFgcRj9tlpt"
   },
   "outputs": [],
   "source": [
    "# Define uma variavel chamada X que é a copia da serie de dados\n",
    "X = series.values\n",
    "\n",
    "# Define a variável window = 3 que será a janela de 3 valores\n",
    "window = 3\n",
    "\n",
    "# Obtem os 3 primeiros valores da serie\n",
    "history = [X[i] for i in range(window)]\n",
    "\n",
    "# Obtem todos os valores após os tres primeiros.\n",
    "test = [X[i] for i in range(window, len(X))]\n",
    "\n",
    "# cria lista de predições\n",
    "predicoes = []\n",
    "\n",
    "# Intera sobre os dados de teste...\n",
    "\n",
    "for t in range(len(test)):\n",
    "  # define a variavel length com o tamanho da variável history\n",
    "  length = len(history)\n",
    "  \n",
    "  # define a variável valor_predito com a média dos 3 valores correntes..                                                           \n",
    "  valor_predito = mean([history[i] for i in range(length - window, length)])        \n",
    "  \n",
    "  # define a variável valor_real com o valor atual do teste..\n",
    "  valor_real = test[t]                                                              \n",
    "  \n",
    "  # alimenta a lista de predicoes\n",
    "  predicoes.append(valor_predito)                                                  \n",
    "  \n",
    "  # atualiza a lista history com os valores correntes..\n",
    "  history.append(valor_real)                                                        \n",
    "  \n",
    "  # imprime o valor predito e o real...\n",
    "  print('Valor predito=%f, Valor real=%f' % (valor_predito, valor_real))                 "
   ]
  },
  {
   "cell_type": "code",
   "execution_count": null,
   "metadata": {
    "colab": {},
    "colab_type": "code",
    "id": "4TYoYR0Fh7uw"
   },
   "outputs": [],
   "source": [
    "# calcula a métrica de rmse\n",
    "rmse = sqrt(mean_squared_error(test, predicoes))                               "
   ]
  },
  {
   "cell_type": "code",
   "execution_count": null,
   "metadata": {
    "colab": {},
    "colab_type": "code",
    "id": "vUrvW7YCh83C"
   },
   "outputs": [],
   "source": [
    "# imprime o valor de rmse\n",
    "print('Métrica RMSE: %.3f' % rmse)"
   ]
  },
  {
   "cell_type": "code",
   "execution_count": null,
   "metadata": {
    "colab": {},
    "colab_type": "code",
    "id": "mKiP0T7HfQTd"
   },
   "outputs": [],
   "source": [
    "# plot o valor real (test) e as predições \n",
    "pyplot.plot(test) \n",
    "pyplot.plot(predicoes, color='red')\n",
    "pyplot.show()"
   ]
  }
 ],
 "metadata": {
  "colab": {
   "collapsed_sections": [
    "VYb28Y2gvsJK",
    "2qz0LqUzvajg",
    "_uPyQMtu626q",
    "fI2XLDpgY4ED",
    "tH7nJ9OLuDsW",
    "hgVIRtad9_U4",
    "7UfK5TM1Au6Y",
    "GlvvJzZvb7K5",
    "j31KrHb0yYoB",
    "MXKMUZQi__Zw",
    "8B4HNql2aPmA",
    "mCPix2MdORDh",
    "Bu1rEmecif4o",
    "TYwxlxI1uVX-"
   ],
   "name": "Séries Temporais - Notebook 01.ipynb",
   "provenance": []
  },
  "kernelspec": {
   "display_name": "Python 3",
   "language": "python",
   "name": "python3"
  },
  "language_info": {
   "codemirror_mode": {
    "name": "ipython",
    "version": 3
   },
   "file_extension": ".py",
   "mimetype": "text/x-python",
   "name": "python",
   "nbconvert_exporter": "python",
   "pygments_lexer": "ipython3",
   "version": "3.8.3"
  }
 },
 "nbformat": 4,
 "nbformat_minor": 4
}
