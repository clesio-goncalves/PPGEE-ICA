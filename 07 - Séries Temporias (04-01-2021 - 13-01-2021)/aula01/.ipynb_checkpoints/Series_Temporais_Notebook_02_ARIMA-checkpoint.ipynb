{
 "cells": [
  {
   "cell_type": "markdown",
   "metadata": {
    "colab_type": "text",
    "id": "Bu1rEmecif4o"
   },
   "source": [
    "### Modelos de Previsão usando Autoregressão"
   ]
  },
  {
   "cell_type": "markdown",
   "metadata": {
    "colab_type": "text",
    "id": "TYwxlxI1uVX-"
   },
   "source": [
    "#### **`ARIMA`**\n",
    "\n",
    "Método estatístico que utiliza um modelo linear que utiliza autoregressão e modelo de média móvel para previsão de séries temporais. Um modelo linear é construído incluindo um número especificado de termos e o dado é preparado por um nível de diferenciação afim de tornar este estacionário.\n",
    "\n",
    "---\n",
    "\n",
    "*   **AR**: *Autoregression* : Um modelo que usa a relação dependende entre uma observação e alguns lags.\n",
    "\n",
    "*   **I**: *Integrated*  : Uso de diferenciação nas observações brutas, exemplo: subtração do valor de uma observação com sua observação anterior. O objetivo é transformar a série temporal em estacionária.\n",
    "\n",
    "*  **MA**: *Moving Average* : Um modelo que usa a dependência entre a observação e o erro residual a partir de um modelo de média móvel aplicado a lags.\n",
    "\n",
    "          residual error = expected − predicted\n",
    "    \n",
    "- Isso é diferente de **Moving Average Smoothing.**\n",
    "- Erros residuais contém estruturas temporais que podem ser modeladas.\n",
    "- Um modelo que prever o erro residual pode ser usado para ajustar os próximos erros e melhorar um modelo que aprende com o histórico.\n",
    "\n",
    "\n",
    "\n",
    "\n",
    "---\n",
    "\n",
    "O modelo arima contém alguns parâmetros\n",
    "\n",
    "\n",
    "```\n",
    "# ARIMA(p,d,q)\n",
    "```\n",
    "*   **p:** O número de lags que devem ser incluídos no modelo.\n",
    "*   **d:** O número de vezes que as observações serão diferenciadas.\n",
    "*   **q:** O tamanho de uma janela de média móvel. Também chamada de ordem de média móvel.\n",
    "\n",
    "Podemos usar um valor 0 para desligar um parâmetro, dessa forma, aquela função em questão não será feita, por exemplo, se no parâmetro d definirmos 0 não será realizada uma diferenciação nos dados. Neste exemplo teríamos um modelo **ARMA**."
   ]
  },
  {
   "cell_type": "markdown",
   "metadata": {
    "colab_type": "text",
    "id": "NPesnsTgQvNp"
   },
   "source": [
    "### Projeto: Prevendo dados futuros."
   ]
  },
  {
   "cell_type": "markdown",
   "metadata": {
    "colab_type": "text",
    "id": "SLifjkVc4nP2"
   },
   "source": [
    "**Especificando um Baseline**\n",
    "- Um baseline é um valor simples que temos para começar o nosso projeto.\n",
    "- Serve de referência para saber como nosso modelo está se saindo.\n",
    "- Exemplo: Valor de previsão é o valor anterior, no nosso caso, o valor do mês anterior."
   ]
  },
  {
   "cell_type": "code",
   "execution_count": 1,
   "metadata": {
    "colab": {},
    "colab_type": "code",
    "id": "-1QbWkGYByCP"
   },
   "outputs": [],
   "source": [
    "import pandas as pd\n",
    "import warnings\n",
    "warnings.filterwarnings('ignore')\n",
    "\n",
    "series = pd.read_csv('champagne_sales.csv', header=0, index_col=0, parse_dates=True, squeeze=True)"
   ]
  },
  {
   "cell_type": "code",
   "execution_count": 2,
   "metadata": {
    "colab": {},
    "colab_type": "code",
    "id": "TC2EVsgc4mvx"
   },
   "outputs": [],
   "source": [
    "# atribui os dados a variável X \n",
    "X = series.values"
   ]
  },
  {
   "cell_type": "code",
   "execution_count": 3,
   "metadata": {
    "colab": {},
    "colab_type": "code",
    "id": "2e_E9gRO4mAX"
   },
   "outputs": [],
   "source": [
    "# define o tamanho do conjunto de treino (50% dos dados para treino e teste)\n",
    "train_size = int(len(X) * 0.50)"
   ]
  },
  {
   "cell_type": "code",
   "execution_count": 4,
   "metadata": {
    "colab": {},
    "colab_type": "code",
    "id": "ZnUThsBe5GzY"
   },
   "outputs": [],
   "source": [
    "# cria os conjuntos de treino e teste\n",
    "train = X[0:train_size]\n",
    "test = X[train_size:]"
   ]
  },
  {
   "cell_type": "code",
   "execution_count": 5,
   "metadata": {
    "colab": {},
    "colab_type": "code",
    "id": "NkW5uRHp6i-8"
   },
   "outputs": [],
   "source": [
    "# obtem todos os dados do treino \n",
    "history = [x for x in train]"
   ]
  },
  {
   "cell_type": "code",
   "execution_count": 6,
   "metadata": {
    "colab": {},
    "colab_type": "code",
    "id": "PhEkHtAf7yQu"
   },
   "outputs": [
    {
     "data": {
      "text/plain": [
       "[2815, 2672, 2755, 2721, 2946, 3036, 2282, 2212, 2922, 4301]"
      ]
     },
     "execution_count": 6,
     "metadata": {},
     "output_type": "execute_result"
    }
   ],
   "source": [
    "# imprime os 10 primeiros valores da variável history\n",
    "history[:10]"
   ]
  },
  {
   "cell_type": "code",
   "execution_count": 7,
   "metadata": {
    "colab": {},
    "colab_type": "code",
    "id": "WTaACYqG5Gpw"
   },
   "outputs": [
    {
     "name": "stdout",
     "output_type": "stream",
     "text": [
      "Valor Predito=4121.000, Valor }Esperado=4647\n",
      "Valor Predito=4647.000, Valor }Esperado=4753\n",
      "Valor Predito=4753.000, Valor }Esperado=3965\n",
      "Valor Predito=3965.000, Valor }Esperado=1723\n",
      "Valor Predito=1723.000, Valor }Esperado=5048\n",
      "Valor Predito=5048.000, Valor }Esperado=6922\n",
      "Valor Predito=6922.000, Valor }Esperado=9858\n",
      "Valor Predito=9858.000, Valor }Esperado=11331\n",
      "Valor Predito=11331.000, Valor }Esperado=4016\n",
      "Valor Predito=4016.000, Valor }Esperado=3957\n",
      "Valor Predito=3957.000, Valor }Esperado=4510\n",
      "Valor Predito=4510.000, Valor }Esperado=4276\n",
      "Valor Predito=4276.000, Valor }Esperado=4968\n",
      "Valor Predito=4968.000, Valor }Esperado=4677\n",
      "Valor Predito=4677.000, Valor }Esperado=3523\n",
      "Valor Predito=3523.000, Valor }Esperado=1821\n",
      "Valor Predito=1821.000, Valor }Esperado=5222\n",
      "Valor Predito=5222.000, Valor }Esperado=6872\n",
      "Valor Predito=6872.000, Valor }Esperado=10803\n",
      "Valor Predito=10803.000, Valor }Esperado=13916\n",
      "Valor Predito=13916.000, Valor }Esperado=2639\n",
      "Valor Predito=2639.000, Valor }Esperado=2899\n",
      "Valor Predito=2899.000, Valor }Esperado=3370\n",
      "Valor Predito=3370.000, Valor }Esperado=3740\n",
      "Valor Predito=3740.000, Valor }Esperado=2927\n",
      "Valor Predito=2927.000, Valor }Esperado=3986\n",
      "Valor Predito=3986.000, Valor }Esperado=4217\n",
      "Valor Predito=4217.000, Valor }Esperado=1738\n",
      "Valor Predito=1738.000, Valor }Esperado=5221\n",
      "Valor Predito=5221.000, Valor }Esperado=6424\n",
      "Valor Predito=6424.000, Valor }Esperado=9842\n",
      "Valor Predito=9842.000, Valor }Esperado=13076\n",
      "Valor Predito=13076.000, Valor }Esperado=3934\n",
      "Valor Predito=3934.000, Valor }Esperado=3162\n",
      "Valor Predito=3162.000, Valor }Esperado=4286\n",
      "Valor Predito=4286.000, Valor }Esperado=4676\n",
      "Valor Predito=4676.000, Valor }Esperado=5010\n",
      "Valor Predito=5010.000, Valor }Esperado=4874\n",
      "Valor Predito=4874.000, Valor }Esperado=4633\n",
      "Valor Predito=4633.000, Valor }Esperado=1659\n",
      "Valor Predito=1659.000, Valor }Esperado=5951\n",
      "Valor Predito=5951.000, Valor }Esperado=6981\n",
      "Valor Predito=6981.000, Valor }Esperado=9851\n",
      "Valor Predito=9851.000, Valor }Esperado=12670\n",
      "Valor Predito=12670.000, Valor }Esperado=4348\n",
      "Valor Predito=4348.000, Valor }Esperado=3564\n",
      "Valor Predito=3564.000, Valor }Esperado=4577\n",
      "Valor Predito=4577.000, Valor }Esperado=4788\n",
      "Valor Predito=4788.000, Valor }Esperado=4618\n",
      "Valor Predito=4618.000, Valor }Esperado=5312\n",
      "Valor Predito=5312.000, Valor }Esperado=4298\n",
      "Valor Predito=4298.000, Valor }Esperado=1413\n",
      "Valor Predito=1413.000, Valor }Esperado=5877\n"
     ]
    }
   ],
   "source": [
    "# cria lista de previsões\n",
    "predictions = list()\n",
    "\n",
    "# aplicando o modelo naive\n",
    "for i in range(len(test)):\n",
    "  \n",
    "  # valor_predito recebe o último valor do conjunto de treino\n",
    "  valor_predito = history[-1]\n",
    "  \n",
    "  # a primeira previsão é o último valor do conjunto de treino\n",
    "  predictions.append(valor_predito)\n",
    "  \n",
    "  # valor real recebe o valor atual do teste.\n",
    "  valor_real = test[i]\n",
    "  \n",
    "  # adiciona o valor real para a lista de historico\n",
    "  history.append(valor_real)\n",
    "  \n",
    "  # imprime valor predito e valor real..\n",
    "  print('Valor Predito=%.3f, Valor }Esperado=%3.f' % (valor_predito, valor_real))"
   ]
  },
  {
   "cell_type": "code",
   "execution_count": 8,
   "metadata": {
    "colab": {},
    "colab_type": "code",
    "id": "AYiQxN-25Sdv"
   },
   "outputs": [
    {
     "name": "stdout",
     "output_type": "stream",
     "text": [
      "RMSE: 3167.362\n"
     ]
    }
   ],
   "source": [
    "# avaliando o modelo naive\n",
    "from sklearn.metrics import mean_squared_error\n",
    "from math import sqrt\n",
    "rmse = sqrt(mean_squared_error(test, predictions))\n",
    "print('RMSE: %.3f' % rmse)"
   ]
  },
  {
   "cell_type": "code",
   "execution_count": 9,
   "metadata": {},
   "outputs": [
    {
     "data": {
      "image/png": "[encoded data removed]",
      "text/plain": [
       "<Figure size 432x288 with 1 Axes>"
      ]
     },
     "metadata": {
      "needs_background": "light"
     },
     "output_type": "display_data"
    }
   ],
   "source": [
    "from matplotlib import pyplot\n",
    "\n",
    "# plot forecasts against actual outcomes \n",
    "pyplot.plot(test)\n",
    "pyplot.plot(predictions, color='red')\n",
    "pyplot.show()"
   ]
  },
  {
   "cell_type": "markdown",
   "metadata": {
    "colab_type": "text",
    "id": "2t99iitRG056"
   },
   "source": [
    "**Prevendo dados com ARIMA com Walk Forward**"
   ]
  },
  {
   "cell_type": "code",
   "execution_count": 10,
   "metadata": {
    "colab": {},
    "colab_type": "code",
    "id": "VHIUUGVDa4Pb"
   },
   "outputs": [],
   "source": [
    "import pandas.testing as tm\n",
    "from statsmodels.graphics.tsaplots import plot_acf\n",
    "from statsmodels.graphics.tsaplots import plot_pacf\n",
    "from matplotlib import pyplot\n",
    "from statsmodels.tsa.arima_model import ARIMA"
   ]
  },
  {
   "cell_type": "code",
   "execution_count": 11,
   "metadata": {
    "colab": {},
    "colab_type": "code",
    "id": "Mgr01sZbNmZ-"
   },
   "outputs": [],
   "source": [
    "# Cria a função que faz a diferenciação\n",
    "def difference(dataset, interval=12):\n",
    "  diff = list() \n",
    "  for i in range(interval, len(dataset)):\n",
    "    value = dataset[i] - dataset[i - interval]\n",
    "    diff.append(value)\n",
    "  return diff\n",
    "\n",
    "# cria função que reverte o valor diferenciado para o original\n",
    "def inverse_difference(history, previsao, interval=12):\n",
    "  return previsao + history[-interval]"
   ]
  },
  {
   "cell_type": "code",
   "execution_count": 12,
   "metadata": {
    "colab": {},
    "colab_type": "code",
    "id": "H5LITFCJ_SBG"
   },
   "outputs": [
    {
     "name": "stdout",
     "output_type": "stream",
     "text": [
      "Valor predito=5156.569, Valor esperado=4647\n",
      "Valor predito=5046.719, Valor esperado=4753\n",
      "Valor predito=4143.817, Valor esperado=3965\n",
      "Valor predito=2102.941, Valor esperado=1723\n",
      "Valor predito=5228.293, Valor esperado=5048\n",
      "Valor predito=5873.383, Valor esperado=6922\n",
      "Valor predito=8571.304, Valor esperado=9858\n",
      "Valor predito=11006.129, Valor esperado=11331\n",
      "Valor predito=4087.485, Valor esperado=4016\n",
      "Valor predito=4771.834, Valor esperado=3957\n",
      "Valor predito=4676.044, Valor esperado=4510\n",
      "Valor predito=4583.393, Valor esperado=4276\n",
      "Valor predito=5117.345, Valor esperado=4968\n",
      "Valor predito=5208.148, Valor esperado=4677\n",
      "Valor predito=4436.454, Valor esperado=3523\n",
      "Valor predito=2180.872, Valor esperado=1821\n",
      "Valor predito=5471.214, Valor esperado=5222\n",
      "Valor predito=7337.593, Valor esperado=6872\n",
      "Valor predito=10268.386, Valor esperado=10803\n",
      "Valor predito=11725.389, Valor esperado=13916\n",
      "Valor predito=4519.492, Valor esperado=2639\n",
      "Valor predito=4605.937, Valor esperado=2899\n",
      "Valor predito=4938.656, Valor esperado=3370\n",
      "Valor predito=4495.263, Valor esperado=3740\n",
      "Valor predito=5109.010, Valor esperado=2927\n",
      "Valor predito=4285.914, Valor esperado=3986\n",
      "Valor predito=3155.260, Valor esperado=4217\n",
      "Valor predito=1830.003, Valor esperado=1738\n",
      "Valor predito=5135.170, Valor esperado=5221\n",
      "Valor predito=6806.895, Valor esperado=6424\n",
      "Valor predito=10644.038, Valor esperado=9842\n",
      "Valor predito=13605.823, Valor esperado=13076\n",
      "Valor predito=2265.382, Valor esperado=3934\n",
      "Valor predito=2938.909, Valor esperado=3162\n",
      "Valor predito=3341.705, Valor esperado=4286\n",
      "Valor predito=3882.924, Valor esperado=4676\n",
      "Valor predito=3157.017, Valor esperado=5010\n",
      "Valor predito=4615.082, Valor esperado=4874\n",
      "Valor predito=4625.000, Valor esperado=4633\n",
      "Valor predito=2044.097, Valor esperado=1659\n",
      "Valor predito=5404.429, Valor esperado=5951\n",
      "Valor predito=6804.427, Valor esperado=6981\n",
      "Valor predito=10194.581, Valor esperado=9851\n",
      "Valor predito=13297.600, Valor esperado=12670\n",
      "Valor predito=4043.017, Valor esperado=4348\n",
      "Valor predito=3459.963, Valor esperado=3564\n",
      "Valor predito=4586.735, Valor esperado=4577\n",
      "Valor predito=4953.416, Valor esperado=4788\n",
      "Valor predito=5243.691, Valor esperado=4618\n",
      "Valor predito=4977.133, Valor esperado=5312\n",
      "Valor predito=4926.076, Valor esperado=4298\n",
      "Valor predito=1767.120, Valor esperado=1413\n",
      "Valor predito=6062.116, Valor esperado=5877\n"
     ]
    }
   ],
   "source": [
    "# cria a variável history\n",
    "history = [x for x in train]\n",
    "\n",
    "# cria lista de previsões\n",
    "predictions = list()\n",
    "\n",
    "# inicia Walk-Forward\n",
    "for t in range(len(test)):\n",
    "  \n",
    "  # difference data\n",
    "  meses_no_ano = 12\n",
    "  diff = difference(history, meses_no_ano)\n",
    "  \n",
    "  # cria um modelo ARIMA com os dados de history\n",
    "  model = ARIMA(diff, order=(1,1,1))\n",
    "  \n",
    "  try:\n",
    "      # treina o modelo ARIMA\n",
    "      model_fit = model.fit(trend='nc', disp=0)\n",
    "  \n",
    "      # a variável valor_predito recebe o valor previsto pelo modelo\n",
    "      valor_predito = model_fit.forecast()[0]\n",
    "  \n",
    "      # valor_predito recebe o valor revertido (escala original)\n",
    "      valor_predito = inverse_difference(history, valor_predito, meses_no_ano)\n",
    "  except:\n",
    "      valor_predito = history[-12]\n",
    "    \n",
    "  # adiciona o valor predito na lista de predicões\n",
    "  predictions.append(valor_predito)\n",
    "  \n",
    "  # a variável valor_real recebe o valor real do teste\n",
    "  valor_real = test[t]\n",
    "  \n",
    "  # adiciona o valor real a variável history\n",
    "  history.append(valor_real)\n",
    "\n",
    "  # imprime valor predito e valor real\n",
    "  print('Valor predito=%.3f, Valor esperado=%3.f' % (valor_predito, valor_real))"
   ]
  },
  {
   "cell_type": "code",
   "execution_count": 13,
   "metadata": {},
   "outputs": [
    {
     "name": "stdout",
     "output_type": "stream",
     "text": [
      "Test RMSE: 840.247\n"
     ]
    }
   ],
   "source": [
    "# Avaliando os resultados\n",
    "rmse = sqrt(mean_squared_error(test, predictions))\n",
    "print('Test RMSE: %.3f' % rmse)"
   ]
  },
  {
   "cell_type": "code",
   "execution_count": 14,
   "metadata": {},
   "outputs": [
    {
     "data": {
      "image/png": "[encoded data removed]",
      "text/plain": [
       "<Figure size 432x288 with 1 Axes>"
      ]
     },
     "metadata": {
      "needs_background": "light"
     },
     "output_type": "display_data"
    }
   ],
   "source": [
    "# plot forecasts against actual outcomes \n",
    "pyplot.plot(test)\n",
    "pyplot.plot(predictions, color='red')\n",
    "pyplot.show()"
   ]
  },
  {
   "cell_type": "markdown",
   "metadata": {
    "colab_type": "text",
    "id": "ww9cpjikMhqg"
   },
   "source": [
    "**SARIMA**\n",
    "\n",
    "```\n",
    "# ARIMA(p,d,q)\n",
    "```\n",
    "*   **p:** O número de lags que devem ser incluídos no modelo.\n",
    "*   **d:** O número de vezes que as observações serão diferenciadas.\n",
    "*   **q:** O tamanho de uma janela de média móvel. Também chamada de ordem de média móvel.\n",
    "\n",
    "SARIMA(p, d, q).(P,D,Q)m\n",
    "\n",
    "\n",
    "> - SARIMA é usado para séries não estacionárias. Esse modelo pode identificar tendência e sazonalizadade.\n",
    "\n",
    "> - Porque considerar a sazonalidade é importante?\n",
    "\n",
    "A sazonalidade é importante principalmente quando sabemos que as vendas aumentam ou diminuiem em determinados eventos (feriados, inverno, verão, etc). Podemos querer modelar esses fenômenos.\n",
    "\n",
    "`Exemplo: Não gostaríamos de comparar as vendas do primeiro trimestre de 2020 com as do quarto trimestre de 2019 sem ajustar esse pico sistemático - sem levar em consideração a sazonalidade, assumiríamos por engano que as vendas diminuiram muito (e nossa empresa estava com grandes problemas) quando realmente é apenas a ressaca pós-feriado prevista.`\n",
    "\n"
   ]
  },
  {
   "cell_type": "code",
   "execution_count": 15,
   "metadata": {
    "colab": {},
    "colab_type": "code",
    "id": "4rPE0-DxMg-V"
   },
   "outputs": [],
   "source": [
    "import statsmodels.api as sm\n",
    "\n",
    "import warnings\n",
    "warnings.filterwarnings('ignore')"
   ]
  },
  {
   "cell_type": "code",
   "execution_count": 16,
   "metadata": {
    "colab": {},
    "colab_type": "code",
    "id": "IqWjZJtLMg7I"
   },
   "outputs": [
    {
     "name": "stdout",
     "output_type": "stream",
     "text": [
      "Valor predito=4958.794, Valor esperado=4647\n",
      "Valor predito=4972.521, Valor esperado=4753\n",
      "Valor predito=4088.524, Valor esperado=3965\n",
      "Valor predito=2126.149, Valor esperado=1723\n",
      "Valor predito=5197.315, Valor esperado=5048\n",
      "Valor predito=5830.010, Valor esperado=6922\n",
      "Valor predito=8861.662, Valor esperado=9858\n",
      "Valor predito=11531.200, Valor esperado=11331\n",
      "Valor predito=3895.764, Valor esperado=4016\n",
      "Valor predito=4644.972, Valor esperado=3957\n",
      "Valor predito=4550.306, Valor esperado=4510\n",
      "Valor predito=4517.248, Valor esperado=4276\n",
      "Valor predito=5060.204, Valor esperado=4968\n",
      "Valor predito=5167.100, Valor esperado=4677\n",
      "Valor predito=4390.886, Valor esperado=3523\n",
      "Valor predito=1828.359, Valor esperado=1821\n",
      "Valor predito=5498.407, Valor esperado=5222\n",
      "Valor predito=7533.769, Valor esperado=6872\n",
      "Valor predito=10789.324, Valor esperado=10803\n",
      "Valor predito=12255.750, Valor esperado=13916\n",
      "Valor predito=4310.981, Valor esperado=2639\n",
      "Valor predito=4497.551, Valor esperado=2899\n",
      "Valor predito=4833.671, Valor esperado=3370\n",
      "Valor predito=4677.145, Valor esperado=3740\n",
      "Valor predito=5246.506, Valor esperado=2927\n",
      "Valor predito=4767.172, Valor esperado=3986\n",
      "Valor predito=3590.462, Valor esperado=4217\n",
      "Valor predito=1806.936, Valor esperado=1738\n",
      "Valor predito=5440.323, Valor esperado=5221\n",
      "Valor predito=6997.003, Valor esperado=6424\n",
      "Valor predito=10798.574, Valor esperado=9842\n",
      "Valor predito=13674.351, Valor esperado=13076\n",
      "Valor predito=2779.739, Valor esperado=3934\n",
      "Valor predito=3007.114, Valor esperado=3162\n",
      "Valor predito=3391.203, Valor esperado=4286\n",
      "Valor predito=3885.727, Valor esperado=4676\n",
      "Valor predito=3351.598, Valor esperado=5010\n",
      "Valor predito=4264.275, Valor esperado=4874\n",
      "Valor predito=4198.628, Valor esperado=4633\n",
      "Valor predito=1935.060, Valor esperado=1659\n",
      "Valor predito=5392.096, Valor esperado=5951\n",
      "Valor predito=6676.177, Valor esperado=6981\n",
      "Valor predito=10273.220, Valor esperado=9851\n",
      "Valor predito=13557.512, Valor esperado=12670\n",
      "Valor predito=3750.411, Valor esperado=4348\n",
      "Valor predito=3243.110, Valor esperado=3564\n",
      "Valor predito=4249.278, Valor esperado=4577\n",
      "Valor predito=4666.150, Valor esperado=4788\n",
      "Valor predito=4753.771, Valor esperado=4618\n",
      "Valor predito=4861.308, Valor esperado=5312\n",
      "Valor predito=4758.019, Valor esperado=4298\n",
      "Valor predito=1842.235, Valor esperado=1413\n",
      "Valor predito=5961.515, Valor esperado=5877\n"
     ]
    }
   ],
   "source": [
    "# cria a variável history\n",
    "history = [x for x in train]\n",
    "\n",
    "# cria lista de previsões\n",
    "predictions = list()\n",
    "\n",
    "# inicia Walk-Forward\n",
    "for t in range(len(test)):\n",
    "  \n",
    "  # difference data\n",
    "  meses_no_ano = 12\n",
    "\n",
    "  # cria um modelo SARIMA com os dados de history\n",
    "  # desliga a diferenciação do modelo ARIMA\n",
    "  model = sm.tsa.statespace.SARIMAX(history, order=(1,0,1), \n",
    "                                    seasonal_order=(1,1,1, meses_no_ano))\n",
    "  \n",
    "  # treina o modelo SARIMAX\n",
    "  model_fit = model.fit(trend='nc', disp=0)\n",
    "\n",
    "  # a variável valor_predito recebe o valor previsto pelo modelo\n",
    "  valor_predito = model_fit.forecast()[0]\n",
    "\n",
    "  predictions.append(valor_predito)\n",
    "         \n",
    "  # a variável valor_real recebe o valor real do teste\n",
    "  valor_real = test[t]\n",
    "  \n",
    "  # adiciona o valor real a variável history\n",
    "  history.append(valor_real)\n",
    "\n",
    "  # imprime valor predito e valor real\n",
    "  print('Valor predito=%.3f, Valor esperado=%3.f' % (valor_predito, valor_real))"
   ]
  },
  {
   "cell_type": "code",
   "execution_count": 17,
   "metadata": {
    "colab": {},
    "colab_type": "code",
    "id": "r3ClxfouMg47"
   },
   "outputs": [
    {
     "name": "stdout",
     "output_type": "stream",
     "text": [
      "Test RMSE: 783.634\n"
     ]
    }
   ],
   "source": [
    "# Avaliando os resultados\n",
    "rmse = sqrt(mean_squared_error(test, predictions))\n",
    "print('Test RMSE: %.3f' % rmse)"
   ]
  },
  {
   "cell_type": "code",
   "execution_count": 18,
   "metadata": {},
   "outputs": [
    {
     "data": {
      "image/png": "[encoded data removed]",
      "text/plain": [
       "<Figure size 432x288 with 1 Axes>"
      ]
     },
     "metadata": {
      "needs_background": "light"
     },
     "output_type": "display_data"
    }
   ],
   "source": [
    "# plot forecasts against actual outcomes \n",
    "pyplot.plot(test)\n",
    "pyplot.plot(predictions, color='red')\n",
    "pyplot.show()"
   ]
  },
  {
   "cell_type": "code",
   "execution_count": null,
   "metadata": {},
   "outputs": [],
   "source": []
  }
 ],
 "metadata": {
  "colab": {
   "collapsed_sections": [
    "VYb28Y2gvsJK",
    "2qz0LqUzvajg",
    "_uPyQMtu626q",
    "fI2XLDpgY4ED",
    "tH7nJ9OLuDsW",
    "hgVIRtad9_U4",
    "7UfK5TM1Au6Y",
    "GlvvJzZvb7K5",
    "j31KrHb0yYoB",
    "MXKMUZQi__Zw",
    "8B4HNql2aPmA",
    "mCPix2MdORDh",
    "Bu1rEmecif4o",
    "TYwxlxI1uVX-"
   ],
   "name": "Séries Temporais - Notebook 01.ipynb",
   "provenance": []
  },
  "kernelspec": {
   "display_name": "Python 3",
   "language": "python",
   "name": "python3"
  },
  "language_info": {
   "codemirror_mode": {
    "name": "ipython",
    "version": 3
   },
   "file_extension": ".py",
   "mimetype": "text/x-python",
   "name": "python",
   "nbconvert_exporter": "python",
   "pygments_lexer": "ipython3",
   "version": "3.8.3"
  }
 },
 "nbformat": 4,
 "nbformat_minor": 4
}
